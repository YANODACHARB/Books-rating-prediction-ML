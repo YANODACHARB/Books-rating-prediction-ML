{
 "cells": [
  {
   "cell_type": "markdown",
   "id": "a239a907",
   "metadata": {},
   "source": [
    "# Rates Books prediction \n"
   ]
  },
  {
   "cell_type": "markdown",
   "id": "11f92265",
   "metadata": {},
   "source": [
    "# Project GOAL:\n",
    "\n",
    "Using the \"books.csv\" dataset, we are going to train a model that predicts a book’s rating. \n",
    "First, we should understand data, what are the important factors that make a book more intersting than another one.\n",
    "\n",
    "To do that! This project going include differents parts, such:\n",
    "\n",
    "1- Exploratory analysis, cleaning and visualisation of the data, \n",
    "\n",
    "2- Data preprocessing, Feature engineering and selection,\n",
    "\n",
    "3- Model training and evaluation.\n",
    "\n",
    "4- Included Jupyter notebook Report"
   ]
  },
  {
   "cell_type": "markdown",
   "id": "72ef81ba",
   "metadata": {},
   "source": [
    "# DATA:\n",
    "\n",
    "Our CSV books file, contains 12 columns that gives informations about the books.  Detailed information for each column is bellow:\n",
    "\n",
    "1) bookID: A unique identification number for each book.\n",
    "\n",
    "2) title: The name under which the book was published.\n",
    "\n",
    "3) authors: The names of the authors of the book. Multiple authors are delimited by “/”.\n",
    "\n",
    "4) average_rating: The average rating of the book received in total.\n",
    "\n",
    "5) isbn: Another unique number to identify the book, known as the International Standard Book Number.\n",
    "\n",
    "6) isbn13: A 13-digit ISBN to identify the book, instead of the standard 11-digit ISBN.\n",
    "\n",
    "7) language_code: Indicates the primary language of the book. For instance, “eng” is standard for English.\n",
    "\n",
    "8) num_pages: The number of pages the book contains.\n",
    "\n",
    "9) ratings_count: The total number of ratings the book received.\n",
    "\n",
    "10) text_reviews_count: The total number of written text reviews the book received.\n",
    "\n",
    "11) publication_date: The date the book was published.\n",
    "\n",
    "12) publisher: The name of the book publisher.\n"
   ]
  },
  {
   "cell_type": "markdown",
   "id": "4624a852",
   "metadata": {},
   "source": [
    "# Start Project coding!"
   ]
  },
  {
   "cell_type": "markdown",
   "id": "c6f7e05a",
   "metadata": {},
   "source": [
    "# Import/Install Libraries/Dependencies:"
   ]
  },
  {
   "cell_type": "code",
   "execution_count": 632,
   "id": "aa789efe",
   "metadata": {},
   "outputs": [
    {
     "name": "stdout",
     "output_type": "stream",
     "text": [
      "Requirement already satisfied: plotly==5.9.0 in c:\\users\\ych\\anaconda3\\lib\\site-packages (5.9.0)Note: you may need to restart the kernel to use updated packages.\n",
      "\n",
      "Requirement already satisfied: tenacity>=6.2.0 in c:\\users\\ych\\anaconda3\\lib\\site-packages (from plotly==5.9.0) (8.0.1)\n"
     ]
    }
   ],
   "source": [
    "pip install plotly==5.9.0 "
   ]
  },
  {
   "cell_type": "code",
   "execution_count": 868,
   "id": "49e47f87",
   "metadata": {},
   "outputs": [
    {
     "data": {
      "text/plain": [
       "'C:\\\\Users\\\\YCH\\\\Documents\\\\Houda DSTI\\\\ML python'"
      ]
     },
     "execution_count": 868,
     "metadata": {},
     "output_type": "execute_result"
    }
   ],
   "source": [
    "import os \n",
    "os.getcwd()"
   ]
  },
  {
   "cell_type": "code",
   "execution_count": 837,
   "id": "ee2a88bc",
   "metadata": {},
   "outputs": [],
   "source": [
    "%matplotlib inline\n",
    "import keras as K\n",
    "import squarify\n",
    "from scipy import stats\n",
    "import numpy as np\n",
    "import pandas as pd\n",
    "from matplotlib import pyplot as plt\n",
    "import seaborn as sns\n",
    "import plotly.express as px\n"
   ]
  },
  {
   "cell_type": "code",
   "execution_count": 874,
   "id": "d58f0686",
   "metadata": {},
   "outputs": [
    {
     "name": "stdout",
     "output_type": "stream",
     "text": [
      "2.8.0\n",
      "1.21.6\n",
      "1.3.5\n",
      "0.11.2\n"
     ]
    }
   ],
   "source": [
    "print(K.__version__)\n",
    "print(np.__version__)\n",
    "print(pd.__version__)\n",
    "print(sns.__version__)\n"
   ]
  },
  {
   "cell_type": "code",
   "execution_count": 840,
   "id": "fc9df985",
   "metadata": {},
   "outputs": [
    {
     "name": "stdout",
     "output_type": "stream",
     "text": [
      "Collecting sklearnNote: you may need to restart the kernel to use updated packages.\n",
      "  Downloading sklearn-0.0.tar.gz (1.1 kB)\n",
      "Requirement already satisfied: scikit-learn in c:\\users\\ych\\anaconda3\\lib\\site-packages (from sklearn) (1.1.1)\n",
      "Requirement already satisfied: scipy>=1.3.2 in c:\\users\\ych\\anaconda3\\lib\\site-packages (from scikit-learn->sklearn) (1.7.1)\n",
      "Requirement already satisfied: joblib>=1.0.0 in c:\\users\\ych\\anaconda3\\lib\\site-packages (from scikit-learn->sklearn) (1.1.0)\n",
      "Requirement already satisfied: numpy>=1.17.3 in c:\\users\\ych\\anaconda3\\lib\\site-packages (from scikit-learn->sklearn) (1.21.6)\n",
      "Requirement already satisfied: threadpoolctl>=2.0.0 in c:\\users\\ych\\anaconda3\\lib\\site-packages (from scikit-learn->sklearn) (2.2.0)\n",
      "Building wheels for collected packages: sklearn\n",
      "  Building wheel for sklearn (setup.py): started\n",
      "  Building wheel for sklearn (setup.py): finished with status 'done'\n",
      "  Created wheel for sklearn: filename=sklearn-0.0-py2.py3-none-any.whl size=1309 sha256=7db6a10bf2d75cd63e1bd7850c41d2b0ee89339361fbb4ae995c800ae18cdbb4\n",
      "  Stored in directory: c:\\users\\ych\\appdata\\local\\pip\\cache\\wheels\\e4\\7b\\98\\b6466d71b8d738a0c547008b9eb39bf8676d1ff6ca4b22af1c\n",
      "Successfully built sklearn\n",
      "Installing collected packages: sklearn\n",
      "Successfully installed sklearn-0.0\n",
      "\n"
     ]
    }
   ],
   "source": [
    "pip install sklearn"
   ]
  },
  {
   "cell_type": "code",
   "execution_count": 841,
   "id": "1a0c401d",
   "metadata": {},
   "outputs": [
    {
     "name": "stdout",
     "output_type": "stream",
     "text": [
      "Requirement already satisfied: scikit-learn in c:\\users\\ych\\anaconda3\\lib\\site-packages (1.1.1)\n",
      "Requirement already satisfied: numpy>=1.17.3 in c:\\users\\ych\\anaconda3\\lib\\site-packages (from scikit-learn) (1.21.6)\n",
      "Requirement already satisfied: scipy>=1.3.2 in c:\\users\\ych\\anaconda3\\lib\\site-packages (from scikit-learn) (1.7.1)\n",
      "Requirement already satisfied: joblib>=1.0.0 in c:\\users\\ych\\anaconda3\\lib\\site-packages (from scikit-learn) (1.1.0)\n",
      "Requirement already satisfied: threadpoolctl>=2.0.0 in c:\\users\\ych\\anaconda3\\lib\\site-packages (from scikit-learn) (2.2.0)\n",
      "Note: you may need to restart the kernel to use updated packages.\n"
     ]
    }
   ],
   "source": [
    "pip install scikit-learn"
   ]
  },
  {
   "cell_type": "code",
   "execution_count": 842,
   "id": "8c0fa435",
   "metadata": {},
   "outputs": [],
   "source": [
    "import sklearn as sk"
   ]
  },
  {
   "cell_type": "code",
   "execution_count": 844,
   "id": "e2828670",
   "metadata": {},
   "outputs": [],
   "source": [
    "import sklearn.metrics as skm"
   ]
  },
  {
   "cell_type": "code",
   "execution_count": 838,
   "id": "db7ac06a",
   "metadata": {},
   "outputs": [
    {
     "data": {
      "text/html": [
       "        <script type=\"text/javascript\">\n",
       "        window.PlotlyConfig = {MathJaxConfig: 'local'};\n",
       "        if (window.MathJax && window.MathJax.Hub && window.MathJax.Hub.Config) {window.MathJax.Hub.Config({SVG: {font: \"STIX-Web\"}});}\n",
       "        if (typeof require !== 'undefined') {\n",
       "        require.undef(\"plotly\");\n",
       "        requirejs.config({\n",
       "            paths: {\n",
       "                'plotly': ['https://cdn.plot.ly/plotly-2.12.1.min']\n",
       "            }\n",
       "        });\n",
       "        require(['plotly'], function(Plotly) {\n",
       "            window._Plotly = Plotly;\n",
       "        });\n",
       "        }\n",
       "        </script>\n",
       "        "
      ]
     },
     "metadata": {},
     "output_type": "display_data"
    }
   ],
   "source": [
    "#import chart_studio.plotly as py\n",
    "import plotly.figure_factory as ff\n",
    "from plotly.offline import init_notebook_mode, iplot\n",
    "init_notebook_mode(connected=True)\n"
   ]
  },
  {
   "cell_type": "code",
   "execution_count": 876,
   "id": "9fecc88d",
   "metadata": {},
   "outputs": [
    {
     "name": "stdout",
     "output_type": "stream",
     "text": [
      "Package                            Version\n",
      "---------------------------------- --------------------\n",
      "Note: you may need to restart the kernel to use updated packages.\n",
      "absl-py                            1.1.0\n",
      "alabaster                          0.7.12\n",
      "anaconda-client                    1.9.0\n",
      "anaconda-navigator                 2.1.1\n",
      "anaconda-project                   0.10.1\n",
      "anyio                              2.2.0\n",
      "appdirs                            1.4.4\n",
      "argh                               0.26.2\n",
      "argon2-cffi                        20.1.0\n",
      "arrow                              0.13.1\n",
      "asn1crypto                         1.4.0\n",
      "astroid                            2.6.6\n",
      "astropy                            4.3.1\n",
      "astunparse                         1.6.3\n",
      "async-generator                    1.10\n",
      "atomicwrites                       1.4.0\n",
      "attrs                              21.2.0\n",
      "autopep8                           1.5.7\n",
      "Babel                              2.9.1\n",
      "backcall                           0.2.0\n",
      "backports.functools-lru-cache      1.6.4\n",
      "backports.shutil-get-terminal-size 1.0.0\n",
      "backports.tempfile                 1.0\n",
      "backports.weakref                  1.0.post1\n",
      "bcrypt                             3.2.0\n",
      "beautifulsoup4                     4.10.0\n",
      "binaryornot                        0.4.4\n",
      "bitarray                           2.3.0\n",
      "bkcharts                           0.2\n",
      "black                              19.10b0\n",
      "bleach                             4.0.0\n",
      "bokeh                              2.4.1\n",
      "boto                               2.49.0\n",
      "Bottleneck                         1.3.2\n",
      "brotlipy                           0.7.0\n",
      "cached-property                    1.5.2\n",
      "cachetools                         4.2.4\n",
      "certifi                            2021.10.8\n",
      "cffi                               1.14.6\n",
      "chardet                            4.0.0\n",
      "charset-normalizer                 2.0.4\n",
      "click                              8.0.3\n",
      "cloudpickle                        2.0.0\n",
      "clyent                             1.2.2\n",
      "colorama                           0.4.4\n",
      "comtypes                           1.1.10\n",
      "conda                              4.13.0\n",
      "conda-build                        3.21.6\n",
      "conda-content-trust                0+unknown\n",
      "conda-pack                         0.6.0\n",
      "conda-package-handling             1.7.3\n",
      "conda-repo-cli                     1.0.4\n",
      "conda-token                        0.3.0\n",
      "conda-verify                       3.4.2\n",
      "contextlib2                        0.6.0.post1\n",
      "cookiecutter                       1.7.2\n",
      "cryptography                       3.4.8\n",
      "cycler                             0.10.0\n",
      "Cython                             0.29.24\n",
      "cytoolz                            0.11.0\n",
      "daal4py                            2021.3.0\n",
      "dask                               2021.10.0\n",
      "debugpy                            1.4.1\n",
      "decorator                          5.1.0\n",
      "defusedxml                         0.7.1\n",
      "diff-match-patch                   20200713\n",
      "distributed                        2021.10.0\n",
      "docopt                             0.6.2\n",
      "docutils                           0.17.1\n",
      "entrypoints                        0.3\n",
      "et-xmlfile                         1.1.0\n",
      "fastcache                          1.1.0\n",
      "filelock                           3.3.1\n",
      "flake8                             3.9.2\n",
      "Flask                              1.1.2\n",
      "flatbuffers                        1.12\n",
      "fonttools                          4.25.0\n",
      "fsspec                             2021.10.1\n",
      "future                             0.18.2\n",
      "gast                               0.4.0\n",
      "gevent                             21.8.0\n",
      "glob2                              0.7\n",
      "google-api-core                    1.32.0\n",
      "google-auth                        1.35.0\n",
      "google-auth-oauthlib               0.4.6\n",
      "google-cloud-bigquery              1.24.0\n",
      "google-cloud-bigquery-storage      1.1.2\n",
      "google-cloud-core                  1.7.3\n",
      "google-pasta                       0.2.0\n",
      "google-resumable-media             0.5.1\n",
      "googleapis-common-protos           1.56.4\n",
      "graphviz                           0.20\n",
      "greenlet                           1.1.1\n",
      "grpcio                             1.47.0\n",
      "h5py                               3.2.1\n",
      "HeapDict                           1.0.1\n",
      "html5lib                           1.1\n",
      "idna                               3.2\n",
      "imagecodecs                        2021.8.26\n",
      "imageio                            2.9.0\n",
      "imagesize                          1.2.0\n",
      "importlib-metadata                 4.8.1\n",
      "inflection                         0.5.1\n",
      "iniconfig                          1.1.1\n",
      "intervaltree                       3.1.0\n",
      "ipykernel                          6.4.1\n",
      "ipython                            7.29.0\n",
      "ipython-genutils                   0.2.0\n",
      "ipywidgets                         7.6.5\n",
      "isort                              5.9.3\n",
      "itsdangerous                       2.0.1\n",
      "jdcal                              1.4.1\n",
      "jedi                               0.18.0\n",
      "Jinja2                             2.11.3\n",
      "jinja2-time                        0.2.0\n",
      "joblib                             1.1.0\n",
      "json5                              0.9.6\n",
      "jsonschema                         3.2.0\n",
      "jupyter                            1.0.0\n",
      "jupyter-client                     6.1.12\n",
      "jupyter-console                    6.4.0\n",
      "jupyter-core                       4.8.1\n",
      "jupyter-server                     1.4.1\n",
      "jupyterlab                         3.2.1\n",
      "jupyterlab-pygments                0.1.2\n",
      "jupyterlab-server                  2.8.2\n",
      "jupyterlab-widgets                 1.0.0\n",
      "keras                              2.8.0\n",
      "Keras-Preprocessing                1.1.2\n",
      "keras-vis                          0.4.1\n",
      "keyring                            23.1.0\n",
      "kiwisolver                         1.3.1\n",
      "lazy-object-proxy                  1.6.0\n",
      "libarchive-c                       2.9\n",
      "libclang                           14.0.1\n",
      "llvmlite                           0.37.0\n",
      "locket                             0.2.1\n",
      "lxml                               4.6.3\n",
      "Markdown                           3.3.7\n",
      "MarkupSafe                         1.1.1\n",
      "matplotlib                         3.2.2\n",
      "matplotlib-inline                  0.1.3\n",
      "matplotlib-venn                    0.11.7\n",
      "mccabe                             0.6.1\n",
      "menuinst                           1.4.18\n",
      "mistune                            0.8.4\n",
      "mkl-fft                            1.3.1\n",
      "mkl-random                         1.2.2\n",
      "mkl-service                        2.4.0\n",
      "mock                               4.0.3\n",
      "more-itertools                     8.10.0\n",
      "mpmath                             1.2.1\n",
      "msgpack                            1.0.2\n",
      "multipledispatch                   0.6.0\n",
      "munkres                            1.1.4\n",
      "mypy-extensions                    0.4.3\n",
      "navigator-updater                  0.2.1\n",
      "nbclassic                          0.2.6\n",
      "nbclient                           0.5.3\n",
      "nbconvert                          6.1.0\n",
      "nbformat                           5.1.3\n",
      "nest-asyncio                       1.5.1\n",
      "networkx                           2.6.3\n",
      "nltk                               3.6.5\n",
      "nose                               1.3.7\n",
      "notebook                           6.4.5\n",
      "numba                              0.54.1\n",
      "numexpr                            2.7.3\n",
      "numpy                              1.21.6\n",
      "numpydoc                           1.1.0\n",
      "oauthlib                           3.2.0\n",
      "olefile                            0.46\n",
      "openpyxl                           3.0.9\n",
      "opt-einsum                         3.3.0\n",
      "packaging                          21.0\n",
      "pandas                             1.3.5\n",
      "pandas-datareader                  0.9.0\n",
      "pandas-gbq                         0.13.3\n",
      "pandas-profiling                   1.4.1\n",
      "pandocfilters                      1.4.3\n",
      "paramiko                           2.7.2\n",
      "parso                              0.8.2\n",
      "partd                              1.2.0\n",
      "path                               16.0.0\n",
      "pathlib2                           2.3.6\n",
      "pathspec                           0.7.0\n",
      "patsy                              0.5.2\n",
      "pep8                               1.7.1\n",
      "pexpect                            4.8.0\n",
      "pickleshare                        0.7.5\n",
      "Pillow                             8.4.0\n",
      "pip                                21.2.4\n",
      "pipreqs                            0.4.11\n",
      "pkginfo                            1.7.1\n",
      "plotly                             5.9.0\n",
      "pluggy                             0.13.1\n",
      "ply                                3.11\n",
      "poyo                               0.5.0\n",
      "prometheus-client                  0.11.0\n",
      "prompt-toolkit                     3.0.20\n",
      "protobuf                           3.19.4\n",
      "psutil                             5.8.0\n",
      "ptyprocess                         0.7.0\n",
      "py                                 1.10.0\n",
      "pyarrow                            8.0.0\n",
      "pyasn1                             0.4.8\n",
      "pyasn1-modules                     0.2.8\n",
      "pycodestyle                        2.7.0\n",
      "pycosat                            0.6.3\n",
      "pycparser                          2.20\n",
      "pycurl                             7.44.1\n",
      "pydata-google-auth                 1.4.0\n",
      "pydocstyle                         6.1.1\n",
      "pyerfa                             2.0.0\n",
      "pyflakes                           2.3.1\n",
      "Pygments                           2.10.0\n",
      "PyJWT                              2.1.0\n",
      "pylint                             2.9.6\n",
      "pyls-spyder                        0.4.0\n",
      "PyNaCl                             1.4.0\n",
      "pyodbc                             4.0.0-unsupported\n",
      "pyOpenSSL                          21.0.0\n",
      "pyparsing                          3.0.4\n",
      "pyreadline                         2.1\n",
      "pyrsistent                         0.18.0\n",
      "PySocks                            1.7.1\n",
      "pytest                             6.2.4\n",
      "python-dateutil                    2.8.2\n",
      "python-lsp-black                   1.0.0\n",
      "python-lsp-jsonrpc                 1.0.0\n",
      "python-lsp-server                  1.2.4\n",
      "python-slugify                     5.0.2\n",
      "pytz                               2021.3\n",
      "PyWavelets                         1.1.1\n",
      "pywin32                            228\n",
      "pywin32-ctypes                     0.2.0\n",
      "pywinpty                           0.5.7\n",
      "PyYAML                             6.0\n",
      "pyzmq                              22.2.1\n",
      "QDarkStyle                         3.0.2\n",
      "qstylizer                          0.1.10\n",
      "QtAwesome                          1.0.2\n",
      "qtconsole                          5.1.1\n",
      "QtPy                               1.10.0\n",
      "regex                              2021.8.3\n",
      "requests                           2.26.0\n",
      "requests-oauthlib                  1.3.1\n",
      "rope                               0.19.0\n",
      "rsa                                4.8\n",
      "Rtree                              0.9.7\n",
      "ruamel-yaml-conda                  0.15.100\n",
      "scikit-image                       0.18.3\n",
      "scikit-learn                       1.1.1\n",
      "scikit-learn-intelex               2021.20210714.120553\n",
      "scipy                              1.7.1\n",
      "seaborn                            0.11.2\n",
      "Send2Trash                         1.8.0\n",
      "setuptools                         58.0.4\n",
      "simplegeneric                      0.8.1\n",
      "singledispatch                     3.7.0\n",
      "sip                                4.19.13\n",
      "six                                1.16.0\n",
      "sklearn                            0.0\n",
      "sniffio                            1.2.0\n",
      "snowballstemmer                    2.1.0\n",
      "sortedcollections                  2.1.0\n",
      "sortedcontainers                   2.4.0\n",
      "soupsieve                          2.2.1\n",
      "Sphinx                             4.2.0\n",
      "sphinxcontrib-applehelp            1.0.2\n",
      "sphinxcontrib-devhelp              1.0.2\n",
      "sphinxcontrib-htmlhelp             2.0.0\n",
      "sphinxcontrib-jsmath               1.0.1\n",
      "sphinxcontrib-qthelp               1.0.3\n",
      "sphinxcontrib-serializinghtml      1.1.5\n",
      "sphinxcontrib-websupport           1.2.4\n",
      "spyder                             5.1.5\n",
      "spyder-kernels                     2.1.3\n",
      "SQLAlchemy                         1.4.22\n",
      "squarify                           0.4.3\n",
      "statsmodels                        0.12.2\n",
      "sympy                              1.9\n",
      "tables                             3.6.1\n",
      "TBB                                0.2\n",
      "tblib                              1.7.0\n",
      "tenacity                           8.0.1\n",
      "tensorboard                        2.9.1\n",
      "tensorboard-data-server            0.6.1\n",
      "tensorboard-plugin-wit             1.8.1\n",
      "tensorflow                         2.9.1\n",
      "tensorflow-estimator               2.9.0\n",
      "tensorflow-io-gcs-filesystem       0.26.0\n",
      "termcolor                          1.1.0\n",
      "terminado                          0.9.4\n",
      "testpath                           0.5.0\n",
      "text-unidecode                     1.3\n",
      "textdistance                       4.2.1\n",
      "threadpoolctl                      2.2.0\n",
      "three-merge                        0.1.1\n",
      "tifffile                           2021.7.2\n",
      "tinycss                            0.4\n",
      "toml                               0.10.2\n",
      "toolz                              0.11.1\n",
      "torch                              1.12.0\n",
      "torchvision                        0.13.0\n",
      "torchviz                           0.0.2\n",
      "tornado                            6.1\n",
      "tqdm                               4.62.3\n",
      "traitlets                          5.1.0\n",
      "typed-ast                          1.4.3\n",
      "typing-extensions                  3.10.0.2\n",
      "ujson                              4.0.2\n",
      "unicodecsv                         0.14.1\n",
      "Unidecode                          1.2.0\n",
      "urllib3                            1.26.7\n",
      "watchdog                           2.1.3\n",
      "wcwidth                            0.2.5\n",
      "webencodings                       0.5.1\n",
      "Werkzeug                           2.0.2\n",
      "wheel                              0.37.0\n",
      "whichcraft                         0.6.1\n",
      "widgetsnbextension                 3.5.1\n",
      "win-inet-pton                      1.1.0\n",
      "win-unicode-console                0.5\n",
      "wincertstore                       0.2\n",
      "wrapt                              1.12.1\n",
      "xlrd                               2.0.1\n",
      "XlsxWriter                         3.0.1\n",
      "xlwings                            0.24.9\n",
      "xlwt                               1.3.0\n",
      "xmltodict                          0.12.0\n",
      "yapf                               0.31.0\n",
      "yarg                               0.1.9\n",
      "zict                               2.0.0\n",
      "zipp                               3.6.0\n",
      "zope.event                         4.5.0\n",
      "zope.interface                     5.4.0\n"
     ]
    }
   ],
   "source": [
    "#Check libraries versions in order to create the 'requirements.txt'\n",
    "pip list"
   ]
  },
  {
   "cell_type": "code",
   "execution_count": 880,
   "id": "237b56ef",
   "metadata": {},
   "outputs": [
    {
     "name": "stdout",
     "output_type": "stream",
     "text": [
      "Requirement already satisfied: matplotlib==3.2.2 in c:\\users\\ych\\anaconda3\\lib\\site-packages (from -r requirements.txt (line 2)) (3.2.2)\n",
      "Requirement already satisfied: matplotlib-inline==0.1.3 in c:\\users\\ych\\anaconda3\\lib\\site-packages (from -r requirements.txt (line 3)) (0.1.3)\n",
      "Requirement already satisfied: matplotlib-venn==0.11.7 in c:\\users\\ych\\anaconda3\\lib\\site-packages (from -r requirements.txt (line 4)) (0.11.7)\n",
      "Requirement already satisfied: numpy==1.21.6 in c:\\users\\ych\\anaconda3\\lib\\site-packages (from -r requirements.txt (line 5)) (1.21.6)\n",
      "Requirement already satisfied: pandas==1.3.5 in c:\\users\\ych\\anaconda3\\lib\\site-packages (from -r requirements.txt (line 6)) (1.3.5)\n",
      "Requirement already satisfied: pandas-datareader==0.9.0 in c:\\users\\ych\\anaconda3\\lib\\site-packages (from -r requirements.txt (line 7)) (0.9.0)\n",
      "Requirement already satisfied: pandas-gbq==0.13.3 in c:\\users\\ych\\anaconda3\\lib\\site-packages (from -r requirements.txt (line 8)) (0.13.3)\n",
      "Requirement already satisfied: pandas-profiling==1.4.1 in c:\\users\\ych\\anaconda3\\lib\\site-packages (from -r requirements.txt (line 9)) (1.4.1)\n",
      "Requirement already satisfied: pip==21.2.4 in c:\\users\\ych\\anaconda3\\lib\\site-packages (from -r requirements.txt (line 10)) (21.2.4)\n",
      "Requirement already satisfied: plotly==5.9.0 in c:\\users\\ych\\anaconda3\\lib\\site-packages (from -r requirements.txt (line 11)) (5.9.0)\n",
      "Requirement already satisfied: scikit-learn==1.1.1 in c:\\users\\ych\\anaconda3\\lib\\site-packages (from -r requirements.txt (line 12)) (1.1.1)\n",
      "Requirement already satisfied: scipy==1.7.1 in c:\\users\\ych\\anaconda3\\lib\\site-packages (from -r requirements.txt (line 13)) (1.7.1)\n",
      "Requirement already satisfied: seaborn==0.11.2 in c:\\users\\ych\\anaconda3\\lib\\site-packages (from -r requirements.txt (line 14)) (0.11.2)\n",
      "Requirement already satisfied: sklearn==0.0 in c:\\users\\ych\\anaconda3\\lib\\site-packages (from -r requirements.txt (line 15)) (0.0)\n",
      "Requirement already satisfied: squarify==0.4.3 in c:\\users\\ych\\anaconda3\\lib\\site-packages (from -r requirements.txt (line 16)) (0.4.3)\n",
      "Requirement already satisfied: keras==2.8.0 in c:\\users\\ych\\anaconda3\\lib\\site-packages (from -r requirements.txt (line 17)) (2.8.0)\n",
      "Requirement already satisfied: Keras-Preprocessing==1.1.2 in c:\\users\\ych\\anaconda3\\lib\\site-packages (from -r requirements.txt (line 18)) (1.1.2)\n",
      "Requirement already satisfied: keras-vis==0.4.1 in c:\\users\\ych\\anaconda3\\lib\\site-packages (from -r requirements.txt (line 19)) (0.4.1)\n",
      "Requirement already satisfied: cycler>=0.10 in c:\\users\\ych\\anaconda3\\lib\\site-packages (from matplotlib==3.2.2->-r requirements.txt (line 2)) (0.10.0)\n",
      "Requirement already satisfied: kiwisolver>=1.0.1 in c:\\users\\ych\\anaconda3\\lib\\site-packages (from matplotlib==3.2.2->-r requirements.txt (line 2)) (1.3.1)\n",
      "Requirement already satisfied: pyparsing!=2.0.4,!=2.1.2,!=2.1.6,>=2.0.1 in c:\\users\\ych\\anaconda3\\lib\\site-packages (from matplotlib==3.2.2->-r requirements.txt (line 2)) (3.0.4)\n",
      "Requirement already satisfied: python-dateutil>=2.1 in c:\\users\\ych\\anaconda3\\lib\\site-packages (from matplotlib==3.2.2->-r requirements.txt (line 2)) (2.8.2)\n",
      "Requirement already satisfied: traitlets in c:\\users\\ych\\anaconda3\\lib\\site-packages (from matplotlib-inline==0.1.3->-r requirements.txt (line 3)) (5.1.0)\n",
      "Requirement already satisfied: pytz>=2017.3 in c:\\users\\ych\\anaconda3\\lib\\site-packages (from pandas==1.3.5->-r requirements.txt (line 6)) (2021.3)\n",
      "Requirement already satisfied: lxml in c:\\users\\ych\\anaconda3\\lib\\site-packages (from pandas-datareader==0.9.0->-r requirements.txt (line 7)) (4.6.3)\n",
      "Requirement already satisfied: requests>=2.19.0 in c:\\users\\ych\\anaconda3\\lib\\site-packages (from pandas-datareader==0.9.0->-r requirements.txt (line 7)) (2.26.0)\n",
      "Requirement already satisfied: google-cloud-bigquery[bqstorage,pandas]<2.0.0dev,>=1.11.1 in c:\\users\\ych\\anaconda3\\lib\\site-packages (from pandas-gbq==0.13.3->-r requirements.txt (line 8)) (1.24.0)\n",
      "Requirement already satisfied: setuptools in c:\\users\\ych\\anaconda3\\lib\\site-packages (from pandas-gbq==0.13.3->-r requirements.txt (line 8)) (58.0.4)\n",
      "Requirement already satisfied: google-auth-oauthlib in c:\\users\\ych\\anaconda3\\lib\\site-packages (from pandas-gbq==0.13.3->-r requirements.txt (line 8)) (0.4.6)\n",
      "Requirement already satisfied: google-auth in c:\\users\\ych\\anaconda3\\lib\\site-packages (from pandas-gbq==0.13.3->-r requirements.txt (line 8)) (1.35.0)\n",
      "Requirement already satisfied: pydata-google-auth in c:\\users\\ych\\anaconda3\\lib\\site-packages (from pandas-gbq==0.13.3->-r requirements.txt (line 8)) (1.4.0)\n",
      "Requirement already satisfied: six>=1.9 in c:\\users\\ych\\anaconda3\\lib\\site-packages (from pandas-profiling==1.4.1->-r requirements.txt (line 9)) (1.16.0)\n",
      "Requirement already satisfied: jinja2>=2.8 in c:\\users\\ych\\anaconda3\\lib\\site-packages (from pandas-profiling==1.4.1->-r requirements.txt (line 9)) (2.11.3)\n",
      "Requirement already satisfied: tenacity>=6.2.0 in c:\\users\\ych\\anaconda3\\lib\\site-packages (from plotly==5.9.0->-r requirements.txt (line 11)) (8.0.1)\n",
      "Requirement already satisfied: threadpoolctl>=2.0.0 in c:\\users\\ych\\anaconda3\\lib\\site-packages (from scikit-learn==1.1.1->-r requirements.txt (line 12)) (2.2.0)\n",
      "Requirement already satisfied: joblib>=1.0.0 in c:\\users\\ych\\anaconda3\\lib\\site-packages (from scikit-learn==1.1.1->-r requirements.txt (line 12)) (1.1.0)\n",
      "Requirement already satisfied: scikit-image in c:\\users\\ych\\anaconda3\\lib\\site-packages (from keras-vis==0.4.1->-r requirements.txt (line 19)) (0.18.3)\n",
      "Requirement already satisfied: h5py in c:\\users\\ych\\anaconda3\\lib\\site-packages (from keras-vis==0.4.1->-r requirements.txt (line 19)) (3.2.1)\n",
      "Requirement already satisfied: google-cloud-core<2.0dev,>=1.1.0 in c:\\users\\ych\\anaconda3\\lib\\site-packages (from google-cloud-bigquery[bqstorage,pandas]<2.0.0dev,>=1.11.1->pandas-gbq==0.13.3->-r requirements.txt (line 8)) (1.7.3)\n",
      "Requirement already satisfied: google-api-core<2.0dev,>=1.15.0 in c:\\users\\ych\\anaconda3\\lib\\site-packages (from google-cloud-bigquery[bqstorage,pandas]<2.0.0dev,>=1.11.1->pandas-gbq==0.13.3->-r requirements.txt (line 8)) (1.32.0)\n",
      "Requirement already satisfied: protobuf>=3.6.0 in c:\\users\\ych\\anaconda3\\lib\\site-packages (from google-cloud-bigquery[bqstorage,pandas]<2.0.0dev,>=1.11.1->pandas-gbq==0.13.3->-r requirements.txt (line 8)) (3.19.4)\n",
      "Requirement already satisfied: google-resumable-media<0.6dev,>=0.5.0 in c:\\users\\ych\\anaconda3\\lib\\site-packages (from google-cloud-bigquery[bqstorage,pandas]<2.0.0dev,>=1.11.1->pandas-gbq==0.13.3->-r requirements.txt (line 8)) (0.5.1)\n",
      "Requirement already satisfied: pyarrow!=0.14.0,>=0.13.0 in c:\\users\\ych\\anaconda3\\lib\\site-packages (from google-cloud-bigquery[bqstorage,pandas]<2.0.0dev,>=1.11.1->pandas-gbq==0.13.3->-r requirements.txt (line 8)) (8.0.0)\n",
      "Requirement already satisfied: google-cloud-bigquery-storage<2.0.0dev,>=0.6.0 in c:\\users\\ych\\anaconda3\\lib\\site-packages (from google-cloud-bigquery[bqstorage,pandas]<2.0.0dev,>=1.11.1->pandas-gbq==0.13.3->-r requirements.txt (line 8)) (1.1.2)\n",
      "Requirement already satisfied: googleapis-common-protos<2.0dev,>=1.6.0 in c:\\users\\ych\\anaconda3\\lib\\site-packages (from google-api-core<2.0dev,>=1.15.0->google-cloud-bigquery[bqstorage,pandas]<2.0.0dev,>=1.11.1->pandas-gbq==0.13.3->-r requirements.txt (line 8)) (1.56.4)\n",
      "Requirement already satisfied: packaging>=14.3 in c:\\users\\ych\\anaconda3\\lib\\site-packages (from google-api-core<2.0dev,>=1.15.0->google-cloud-bigquery[bqstorage,pandas]<2.0.0dev,>=1.11.1->pandas-gbq==0.13.3->-r requirements.txt (line 8)) (21.0)\n",
      "Requirement already satisfied: pyasn1-modules>=0.2.1 in c:\\users\\ych\\anaconda3\\lib\\site-packages (from google-auth->pandas-gbq==0.13.3->-r requirements.txt (line 8)) (0.2.8)\n",
      "Requirement already satisfied: rsa<5,>=3.1.4 in c:\\users\\ych\\anaconda3\\lib\\site-packages (from google-auth->pandas-gbq==0.13.3->-r requirements.txt (line 8)) (4.8)\n",
      "Requirement already satisfied: cachetools<5.0,>=2.0.0 in c:\\users\\ych\\anaconda3\\lib\\site-packages (from google-auth->pandas-gbq==0.13.3->-r requirements.txt (line 8)) (4.2.4)\n",
      "Requirement already satisfied: grpcio<2.0dev,>=1.29.0 in c:\\users\\ych\\anaconda3\\lib\\site-packages (from google-api-core<2.0dev,>=1.15.0->google-cloud-bigquery[bqstorage,pandas]<2.0.0dev,>=1.11.1->pandas-gbq==0.13.3->-r requirements.txt (line 8)) (1.47.0)\n",
      "Requirement already satisfied: MarkupSafe>=0.23 in c:\\users\\ych\\anaconda3\\lib\\site-packages (from jinja2>=2.8->pandas-profiling==1.4.1->-r requirements.txt (line 9)) (1.1.1)\n",
      "Requirement already satisfied: pyasn1<0.5.0,>=0.4.6 in c:\\users\\ych\\anaconda3\\lib\\site-packages (from pyasn1-modules>=0.2.1->google-auth->pandas-gbq==0.13.3->-r requirements.txt (line 8)) (0.4.8)\n",
      "Requirement already satisfied: charset-normalizer~=2.0.0 in c:\\users\\ych\\anaconda3\\lib\\site-packages (from requests>=2.19.0->pandas-datareader==0.9.0->-r requirements.txt (line 7)) (2.0.4)\n",
      "Requirement already satisfied: idna<4,>=2.5 in c:\\users\\ych\\anaconda3\\lib\\site-packages (from requests>=2.19.0->pandas-datareader==0.9.0->-r requirements.txt (line 7)) (3.2)\n",
      "Requirement already satisfied: urllib3<1.27,>=1.21.1 in c:\\users\\ych\\anaconda3\\lib\\site-packages (from requests>=2.19.0->pandas-datareader==0.9.0->-r requirements.txt (line 7)) (1.26.7)\n",
      "Requirement already satisfied: certifi>=2017.4.17 in c:\\users\\ych\\anaconda3\\lib\\site-packages (from requests>=2.19.0->pandas-datareader==0.9.0->-r requirements.txt (line 7)) (2021.10.8)\n",
      "Requirement already satisfied: requests-oauthlib>=0.7.0 in c:\\users\\ych\\anaconda3\\lib\\site-packages (from google-auth-oauthlib->pandas-gbq==0.13.3->-r requirements.txt (line 8)) (1.3.1)\n",
      "Requirement already satisfied: oauthlib>=3.0.0 in c:\\users\\ych\\anaconda3\\lib\\site-packages (from requests-oauthlib>=0.7.0->google-auth-oauthlib->pandas-gbq==0.13.3->-r requirements.txt (line 8)) (3.2.0)\n",
      "Requirement already satisfied: networkx>=2.0 in c:\\users\\ych\\anaconda3\\lib\\site-packages (from scikit-image->keras-vis==0.4.1->-r requirements.txt (line 19)) (2.6.3)\n",
      "Requirement already satisfied: pillow!=7.1.0,!=7.1.1,>=4.3.0 in c:\\users\\ych\\anaconda3\\lib\\site-packages (from scikit-image->keras-vis==0.4.1->-r requirements.txt (line 19)) (8.4.0)\n",
      "Requirement already satisfied: imageio>=2.3.0 in c:\\users\\ych\\anaconda3\\lib\\site-packages (from scikit-image->keras-vis==0.4.1->-r requirements.txt (line 19)) (2.9.0)\n",
      "Requirement already satisfied: tifffile>=2019.7.26 in c:\\users\\ych\\anaconda3\\lib\\site-packages (from scikit-image->keras-vis==0.4.1->-r requirements.txt (line 19)) (2021.7.2)\n",
      "Requirement already satisfied: PyWavelets>=1.1.1 in c:\\users\\ych\\anaconda3\\lib\\site-packages (from scikit-image->keras-vis==0.4.1->-r requirements.txt (line 19)) (1.1.1)\n",
      "Note: you may need to restart the kernel to use updated packages.\n"
     ]
    }
   ],
   "source": [
    "pip install -r requirements.txt"
   ]
  },
  {
   "cell_type": "markdown",
   "id": "22f87e3a",
   "metadata": {},
   "source": [
    "# 1)Data Analysis :\n",
    "\n",
    "- Processing,\n",
    "\n",
    "- Exploratory analysis,\n",
    "\n",
    "- Cleaning,\n",
    "\n",
    "- Ploting,\n",
    "\n"
   ]
  },
  {
   "cell_type": "code",
   "execution_count": 636,
   "id": "bc55a51e",
   "metadata": {},
   "outputs": [],
   "source": [
    "#Import data from the CSV file, bu using the Book id such an index column + drop bad lines:\n",
    "df= pd.read_csv(\"books.csv\", sep=\",\", index_col=\"bookID\", on_bad_lines='skip')"
   ]
  },
  {
   "cell_type": "code",
   "execution_count": 637,
   "id": "fd9476eb",
   "metadata": {},
   "outputs": [
    {
     "name": "stdout",
     "output_type": "stream",
     "text": [
      "Dataset contains 11123 rows and 11 columns\n"
     ]
    }
   ],
   "source": [
    "#Finding Number of rows and columns\n",
    "print(\"Dataset contains {} rows and {} columns\".format(df.shape[0], df.shape[1]))"
   ]
  },
  {
   "cell_type": "markdown",
   "id": "dc6b98f8",
   "metadata": {},
   "source": [
    "Our file contain 11 column and 11123 lines.\n",
    "Let's have more information about our data:"
   ]
  },
  {
   "cell_type": "code",
   "execution_count": 640,
   "id": "8528db25",
   "metadata": {},
   "outputs": [
    {
     "name": "stdout",
     "output_type": "stream",
     "text": [
      "<class 'pandas.core.frame.DataFrame'>\n",
      "Int64Index: 11123 entries, 1 to 45641\n",
      "Data columns (total 11 columns):\n",
      " #   Column              Non-Null Count  Dtype  \n",
      "---  ------              --------------  -----  \n",
      " 0   title               11123 non-null  object \n",
      " 1   authors             11123 non-null  object \n",
      " 2   average_rating      11123 non-null  float64\n",
      " 3   isbn                11123 non-null  object \n",
      " 4   isbn13              11123 non-null  int64  \n",
      " 5   language_code       11123 non-null  object \n",
      " 6     num_pages         11123 non-null  int64  \n",
      " 7   ratings_count       11123 non-null  int64  \n",
      " 8   text_reviews_count  11123 non-null  int64  \n",
      " 9   publication_date    11123 non-null  object \n",
      " 10  publisher           11123 non-null  object \n",
      "dtypes: float64(1), int64(4), object(6)\n",
      "memory usage: 1.0+ MB\n"
     ]
    }
   ],
   "source": [
    "df.info()"
   ]
  },
  {
   "cell_type": "code",
   "execution_count": 638,
   "id": "570b4c3d",
   "metadata": {},
   "outputs": [
    {
     "data": {
      "text/plain": [
       "title                 0\n",
       "authors               0\n",
       "average_rating        0\n",
       "isbn                  0\n",
       "isbn13                0\n",
       "language_code         0\n",
       "  num_pages           0\n",
       "ratings_count         0\n",
       "text_reviews_count    0\n",
       "publication_date      0\n",
       "publisher             0\n",
       "dtype: int64"
      ]
     },
     "execution_count": 638,
     "metadata": {},
     "output_type": "execute_result"
    }
   ],
   "source": [
    "#Detecting NA:\n",
    "df.isna().sum()"
   ]
  },
  {
   "cell_type": "code",
   "execution_count": 641,
   "id": "6c502a88",
   "metadata": {},
   "outputs": [
    {
     "data": {
      "text/plain": [
       "Stephen King                                              40\n",
       "P.G. Wodehouse                                            40\n",
       "Rumiko Takahashi                                          39\n",
       "Orson Scott Card                                          35\n",
       "Agatha Christie                                           33\n",
       "                                                          ..\n",
       "Legs McNeil/Gillian McCain                                 1\n",
       "Adam Woog                                                  1\n",
       "Mikal Gilmore                                              1\n",
       "Thich Nhat Hanh/Arnold Kotler/Dalai Lama XIV               1\n",
       "William T. Vollmann/Larry McCaffery/Michael Hemmingson     1\n",
       "Name: authors, Length: 6639, dtype: int64"
      ]
     },
     "execution_count": 641,
     "metadata": {},
     "output_type": "execute_result"
    }
   ],
   "source": [
    "df.authors.value_counts()"
   ]
  },
  {
   "cell_type": "code",
   "execution_count": 719,
   "id": "9f5c7dda",
   "metadata": {},
   "outputs": [
    {
     "data": {
      "text/html": [
       "<div>\n",
       "<style scoped>\n",
       "    .dataframe tbody tr th:only-of-type {\n",
       "        vertical-align: middle;\n",
       "    }\n",
       "\n",
       "    .dataframe tbody tr th {\n",
       "        vertical-align: top;\n",
       "    }\n",
       "\n",
       "    .dataframe thead th {\n",
       "        text-align: right;\n",
       "    }\n",
       "</style>\n",
       "<table border=\"1\" class=\"dataframe\">\n",
       "  <thead>\n",
       "    <tr style=\"text-align: right;\">\n",
       "      <th></th>\n",
       "      <th>title</th>\n",
       "      <th>authors</th>\n",
       "      <th>average_rating</th>\n",
       "      <th>isbn</th>\n",
       "      <th>isbn13</th>\n",
       "      <th>language_code</th>\n",
       "      <th>num_pages</th>\n",
       "      <th>ratings_count</th>\n",
       "      <th>text_reviews_count</th>\n",
       "      <th>publication_date</th>\n",
       "      <th>publisher</th>\n",
       "    </tr>\n",
       "    <tr>\n",
       "      <th>bookID</th>\n",
       "      <th></th>\n",
       "      <th></th>\n",
       "      <th></th>\n",
       "      <th></th>\n",
       "      <th></th>\n",
       "      <th></th>\n",
       "      <th></th>\n",
       "      <th></th>\n",
       "      <th></th>\n",
       "      <th></th>\n",
       "      <th></th>\n",
       "    </tr>\n",
       "  </thead>\n",
       "  <tbody>\n",
       "    <tr>\n",
       "      <th>1</th>\n",
       "      <td>Harry Potter and the Half-Blood Prince (Harry ...</td>\n",
       "      <td>J.K. Rowling/Mary GrandPré</td>\n",
       "      <td>4.57</td>\n",
       "      <td>0439785960</td>\n",
       "      <td>9780439785969</td>\n",
       "      <td>eng</td>\n",
       "      <td>652</td>\n",
       "      <td>2095690</td>\n",
       "      <td>27591</td>\n",
       "      <td>9/16/2006</td>\n",
       "      <td>Scholastic Inc.</td>\n",
       "    </tr>\n",
       "    <tr>\n",
       "      <th>2</th>\n",
       "      <td>Harry Potter and the Order of the Phoenix (Har...</td>\n",
       "      <td>J.K. Rowling/Mary GrandPré</td>\n",
       "      <td>4.49</td>\n",
       "      <td>0439358078</td>\n",
       "      <td>9780439358071</td>\n",
       "      <td>eng</td>\n",
       "      <td>870</td>\n",
       "      <td>2153167</td>\n",
       "      <td>29221</td>\n",
       "      <td>9/1/2004</td>\n",
       "      <td>Scholastic Inc.</td>\n",
       "    </tr>\n",
       "    <tr>\n",
       "      <th>4</th>\n",
       "      <td>Harry Potter and the Chamber of Secrets (Harry...</td>\n",
       "      <td>J.K. Rowling</td>\n",
       "      <td>4.42</td>\n",
       "      <td>0439554896</td>\n",
       "      <td>9780439554893</td>\n",
       "      <td>eng</td>\n",
       "      <td>352</td>\n",
       "      <td>6333</td>\n",
       "      <td>244</td>\n",
       "      <td>11/1/2003</td>\n",
       "      <td>Scholastic</td>\n",
       "    </tr>\n",
       "    <tr>\n",
       "      <th>5</th>\n",
       "      <td>Harry Potter and the Prisoner of Azkaban (Harr...</td>\n",
       "      <td>J.K. Rowling/Mary GrandPré</td>\n",
       "      <td>4.56</td>\n",
       "      <td>043965548X</td>\n",
       "      <td>9780439655484</td>\n",
       "      <td>eng</td>\n",
       "      <td>435</td>\n",
       "      <td>2339585</td>\n",
       "      <td>36325</td>\n",
       "      <td>5/1/2004</td>\n",
       "      <td>Scholastic Inc.</td>\n",
       "    </tr>\n",
       "    <tr>\n",
       "      <th>8</th>\n",
       "      <td>Harry Potter Boxed Set  Books 1-5 (Harry Potte...</td>\n",
       "      <td>J.K. Rowling/Mary GrandPré</td>\n",
       "      <td>4.78</td>\n",
       "      <td>0439682584</td>\n",
       "      <td>9780439682589</td>\n",
       "      <td>eng</td>\n",
       "      <td>2690</td>\n",
       "      <td>41428</td>\n",
       "      <td>164</td>\n",
       "      <td>9/13/2004</td>\n",
       "      <td>Scholastic</td>\n",
       "    </tr>\n",
       "  </tbody>\n",
       "</table>\n",
       "</div>"
      ],
      "text/plain": [
       "                                                    title  \\\n",
       "bookID                                                      \n",
       "1       Harry Potter and the Half-Blood Prince (Harry ...   \n",
       "2       Harry Potter and the Order of the Phoenix (Har...   \n",
       "4       Harry Potter and the Chamber of Secrets (Harry...   \n",
       "5       Harry Potter and the Prisoner of Azkaban (Harr...   \n",
       "8       Harry Potter Boxed Set  Books 1-5 (Harry Potte...   \n",
       "\n",
       "                           authors  average_rating        isbn         isbn13  \\\n",
       "bookID                                                                          \n",
       "1       J.K. Rowling/Mary GrandPré            4.57  0439785960  9780439785969   \n",
       "2       J.K. Rowling/Mary GrandPré            4.49  0439358078  9780439358071   \n",
       "4                     J.K. Rowling            4.42  0439554896  9780439554893   \n",
       "5       J.K. Rowling/Mary GrandPré            4.56  043965548X  9780439655484   \n",
       "8       J.K. Rowling/Mary GrandPré            4.78  0439682584  9780439682589   \n",
       "\n",
       "       language_code    num_pages  ratings_count  text_reviews_count  \\\n",
       "bookID                                                                 \n",
       "1                eng          652        2095690               27591   \n",
       "2                eng          870        2153167               29221   \n",
       "4                eng          352           6333                 244   \n",
       "5                eng          435        2339585               36325   \n",
       "8                eng         2690          41428                 164   \n",
       "\n",
       "       publication_date        publisher  \n",
       "bookID                                    \n",
       "1             9/16/2006  Scholastic Inc.  \n",
       "2              9/1/2004  Scholastic Inc.  \n",
       "4             11/1/2003       Scholastic  \n",
       "5              5/1/2004  Scholastic Inc.  \n",
       "8             9/13/2004       Scholastic  "
      ]
     },
     "execution_count": 719,
     "metadata": {},
     "output_type": "execute_result"
    }
   ],
   "source": [
    "#Let's have a look on our data 5 first rows:\n",
    "df.head(5)"
   ]
  },
  {
   "cell_type": "code",
   "execution_count": 720,
   "id": "60e101b0",
   "metadata": {},
   "outputs": [
    {
     "data": {
      "text/html": [
       "<div>\n",
       "<style scoped>\n",
       "    .dataframe tbody tr th:only-of-type {\n",
       "        vertical-align: middle;\n",
       "    }\n",
       "\n",
       "    .dataframe tbody tr th {\n",
       "        vertical-align: top;\n",
       "    }\n",
       "\n",
       "    .dataframe thead th {\n",
       "        text-align: right;\n",
       "    }\n",
       "</style>\n",
       "<table border=\"1\" class=\"dataframe\">\n",
       "  <thead>\n",
       "    <tr style=\"text-align: right;\">\n",
       "      <th></th>\n",
       "      <th>title</th>\n",
       "      <th>authors</th>\n",
       "      <th>average_rating</th>\n",
       "      <th>isbn</th>\n",
       "      <th>isbn13</th>\n",
       "      <th>language_code</th>\n",
       "      <th>num_pages</th>\n",
       "      <th>ratings_count</th>\n",
       "      <th>text_reviews_count</th>\n",
       "      <th>publication_date</th>\n",
       "      <th>publisher</th>\n",
       "    </tr>\n",
       "    <tr>\n",
       "      <th>bookID</th>\n",
       "      <th></th>\n",
       "      <th></th>\n",
       "      <th></th>\n",
       "      <th></th>\n",
       "      <th></th>\n",
       "      <th></th>\n",
       "      <th></th>\n",
       "      <th></th>\n",
       "      <th></th>\n",
       "      <th></th>\n",
       "      <th></th>\n",
       "    </tr>\n",
       "  </thead>\n",
       "  <tbody>\n",
       "    <tr>\n",
       "      <th>45631</th>\n",
       "      <td>Expelled from Eden: A William T. Vollmann Reader</td>\n",
       "      <td>William T. Vollmann/Larry McCaffery/Michael He...</td>\n",
       "      <td>4.06</td>\n",
       "      <td>1560254416</td>\n",
       "      <td>9781560254416</td>\n",
       "      <td>eng</td>\n",
       "      <td>512</td>\n",
       "      <td>156</td>\n",
       "      <td>20</td>\n",
       "      <td>12/21/2004</td>\n",
       "      <td>Da Capo Press</td>\n",
       "    </tr>\n",
       "    <tr>\n",
       "      <th>45633</th>\n",
       "      <td>You Bright and Risen Angels</td>\n",
       "      <td>William T. Vollmann</td>\n",
       "      <td>4.08</td>\n",
       "      <td>0140110879</td>\n",
       "      <td>9780140110876</td>\n",
       "      <td>eng</td>\n",
       "      <td>635</td>\n",
       "      <td>783</td>\n",
       "      <td>56</td>\n",
       "      <td>12/1/1988</td>\n",
       "      <td>Penguin Books</td>\n",
       "    </tr>\n",
       "    <tr>\n",
       "      <th>45634</th>\n",
       "      <td>The Ice-Shirt (Seven Dreams #1)</td>\n",
       "      <td>William T. Vollmann</td>\n",
       "      <td>3.96</td>\n",
       "      <td>0140131965</td>\n",
       "      <td>9780140131963</td>\n",
       "      <td>eng</td>\n",
       "      <td>415</td>\n",
       "      <td>820</td>\n",
       "      <td>95</td>\n",
       "      <td>8/1/1993</td>\n",
       "      <td>Penguin Books</td>\n",
       "    </tr>\n",
       "    <tr>\n",
       "      <th>45639</th>\n",
       "      <td>Poor People</td>\n",
       "      <td>William T. Vollmann</td>\n",
       "      <td>3.72</td>\n",
       "      <td>0060878827</td>\n",
       "      <td>9780060878825</td>\n",
       "      <td>eng</td>\n",
       "      <td>434</td>\n",
       "      <td>769</td>\n",
       "      <td>139</td>\n",
       "      <td>2/27/2007</td>\n",
       "      <td>Ecco</td>\n",
       "    </tr>\n",
       "    <tr>\n",
       "      <th>45641</th>\n",
       "      <td>Las aventuras de Tom Sawyer</td>\n",
       "      <td>Mark Twain</td>\n",
       "      <td>3.91</td>\n",
       "      <td>8497646983</td>\n",
       "      <td>9788497646987</td>\n",
       "      <td>spa</td>\n",
       "      <td>272</td>\n",
       "      <td>113</td>\n",
       "      <td>12</td>\n",
       "      <td>5/28/2006</td>\n",
       "      <td>Edimat Libros</td>\n",
       "    </tr>\n",
       "  </tbody>\n",
       "</table>\n",
       "</div>"
      ],
      "text/plain": [
       "                                                   title  \\\n",
       "bookID                                                     \n",
       "45631   Expelled from Eden: A William T. Vollmann Reader   \n",
       "45633                        You Bright and Risen Angels   \n",
       "45634                    The Ice-Shirt (Seven Dreams #1)   \n",
       "45639                                        Poor People   \n",
       "45641                        Las aventuras de Tom Sawyer   \n",
       "\n",
       "                                                  authors  average_rating  \\\n",
       "bookID                                                                      \n",
       "45631   William T. Vollmann/Larry McCaffery/Michael He...            4.06   \n",
       "45633                                 William T. Vollmann            4.08   \n",
       "45634                                 William T. Vollmann            3.96   \n",
       "45639                                 William T. Vollmann            3.72   \n",
       "45641                                          Mark Twain            3.91   \n",
       "\n",
       "              isbn         isbn13 language_code    num_pages  ratings_count  \\\n",
       "bookID                                                                        \n",
       "45631   1560254416  9781560254416           eng          512            156   \n",
       "45633   0140110879  9780140110876           eng          635            783   \n",
       "45634   0140131965  9780140131963           eng          415            820   \n",
       "45639   0060878827  9780060878825           eng          434            769   \n",
       "45641   8497646983  9788497646987           spa          272            113   \n",
       "\n",
       "        text_reviews_count publication_date      publisher  \n",
       "bookID                                                      \n",
       "45631                   20       12/21/2004  Da Capo Press  \n",
       "45633                   56        12/1/1988  Penguin Books  \n",
       "45634                   95         8/1/1993  Penguin Books  \n",
       "45639                  139        2/27/2007           Ecco  \n",
       "45641                   12        5/28/2006  Edimat Libros  "
      ]
     },
     "execution_count": 720,
     "metadata": {},
     "output_type": "execute_result"
    }
   ],
   "source": [
    "#5 tail rows:\n",
    "df.tail(5)"
   ]
  },
  {
   "cell_type": "code",
   "execution_count": 645,
   "id": "a7d91501",
   "metadata": {},
   "outputs": [
    {
     "data": {
      "text/html": [
       "<div>\n",
       "<style scoped>\n",
       "    .dataframe tbody tr th:only-of-type {\n",
       "        vertical-align: middle;\n",
       "    }\n",
       "\n",
       "    .dataframe tbody tr th {\n",
       "        vertical-align: top;\n",
       "    }\n",
       "\n",
       "    .dataframe thead th {\n",
       "        text-align: right;\n",
       "    }\n",
       "</style>\n",
       "<table border=\"1\" class=\"dataframe\">\n",
       "  <thead>\n",
       "    <tr style=\"text-align: right;\">\n",
       "      <th></th>\n",
       "      <th>average_rating</th>\n",
       "      <th>isbn13</th>\n",
       "      <th>num_pages</th>\n",
       "      <th>ratings_count</th>\n",
       "      <th>text_reviews_count</th>\n",
       "    </tr>\n",
       "  </thead>\n",
       "  <tbody>\n",
       "    <tr>\n",
       "      <th>count</th>\n",
       "      <td>11123.000000</td>\n",
       "      <td>1.112300e+04</td>\n",
       "      <td>11123.000000</td>\n",
       "      <td>1.112300e+04</td>\n",
       "      <td>11123.000000</td>\n",
       "    </tr>\n",
       "    <tr>\n",
       "      <th>mean</th>\n",
       "      <td>3.934075</td>\n",
       "      <td>9.759880e+12</td>\n",
       "      <td>336.405556</td>\n",
       "      <td>1.794285e+04</td>\n",
       "      <td>542.048099</td>\n",
       "    </tr>\n",
       "    <tr>\n",
       "      <th>std</th>\n",
       "      <td>0.350485</td>\n",
       "      <td>4.429758e+11</td>\n",
       "      <td>241.152626</td>\n",
       "      <td>1.124992e+05</td>\n",
       "      <td>2576.619589</td>\n",
       "    </tr>\n",
       "    <tr>\n",
       "      <th>min</th>\n",
       "      <td>0.000000</td>\n",
       "      <td>8.987060e+09</td>\n",
       "      <td>0.000000</td>\n",
       "      <td>0.000000e+00</td>\n",
       "      <td>0.000000</td>\n",
       "    </tr>\n",
       "    <tr>\n",
       "      <th>25%</th>\n",
       "      <td>3.770000</td>\n",
       "      <td>9.780345e+12</td>\n",
       "      <td>192.000000</td>\n",
       "      <td>1.040000e+02</td>\n",
       "      <td>9.000000</td>\n",
       "    </tr>\n",
       "    <tr>\n",
       "      <th>50%</th>\n",
       "      <td>3.960000</td>\n",
       "      <td>9.780582e+12</td>\n",
       "      <td>299.000000</td>\n",
       "      <td>7.450000e+02</td>\n",
       "      <td>47.000000</td>\n",
       "    </tr>\n",
       "    <tr>\n",
       "      <th>75%</th>\n",
       "      <td>4.140000</td>\n",
       "      <td>9.780872e+12</td>\n",
       "      <td>416.000000</td>\n",
       "      <td>5.000500e+03</td>\n",
       "      <td>238.000000</td>\n",
       "    </tr>\n",
       "    <tr>\n",
       "      <th>max</th>\n",
       "      <td>5.000000</td>\n",
       "      <td>9.790008e+12</td>\n",
       "      <td>6576.000000</td>\n",
       "      <td>4.597666e+06</td>\n",
       "      <td>94265.000000</td>\n",
       "    </tr>\n",
       "  </tbody>\n",
       "</table>\n",
       "</div>"
      ],
      "text/plain": [
       "       average_rating        isbn13     num_pages  ratings_count  \\\n",
       "count    11123.000000  1.112300e+04  11123.000000   1.112300e+04   \n",
       "mean         3.934075  9.759880e+12    336.405556   1.794285e+04   \n",
       "std          0.350485  4.429758e+11    241.152626   1.124992e+05   \n",
       "min          0.000000  8.987060e+09      0.000000   0.000000e+00   \n",
       "25%          3.770000  9.780345e+12    192.000000   1.040000e+02   \n",
       "50%          3.960000  9.780582e+12    299.000000   7.450000e+02   \n",
       "75%          4.140000  9.780872e+12    416.000000   5.000500e+03   \n",
       "max          5.000000  9.790008e+12   6576.000000   4.597666e+06   \n",
       "\n",
       "       text_reviews_count  \n",
       "count        11123.000000  \n",
       "mean           542.048099  \n",
       "std           2576.619589  \n",
       "min              0.000000  \n",
       "25%              9.000000  \n",
       "50%             47.000000  \n",
       "75%            238.000000  \n",
       "max          94265.000000  "
      ]
     },
     "execution_count": 645,
     "metadata": {},
     "output_type": "execute_result"
    }
   ],
   "source": [
    "#Let's have a mathematical view of our data:\n",
    "df.describe()"
   ]
  },
  {
   "cell_type": "markdown",
   "id": "6123b34d",
   "metadata": {},
   "source": [
    "In the describe section, we see that the mean of average rating is arround 4 and we can already see that the number or count of rating is not equivalent to the text reviews count.\n",
    "We are going to check this hypothesis by next."
   ]
  },
  {
   "cell_type": "markdown",
   "id": "02f31188",
   "metadata": {},
   "source": [
    "# Let's focus on Average rating!"
   ]
  },
  {
   "cell_type": "markdown",
   "id": "0013d5e4",
   "metadata": {},
   "source": [
    "This study is about Predicting Average rating! So let us have a look on 'average-rating' first before analysing any other relations."
   ]
  },
  {
   "cell_type": "code",
   "execution_count": 722,
   "id": "c77d212c",
   "metadata": {},
   "outputs": [
    {
     "data": {
      "text/plain": [
       "<seaborn.axisgrid.FacetGrid at 0x17f09e0ae20>"
      ]
     },
     "execution_count": 722,
     "metadata": {},
     "output_type": "execute_result"
    },
    {
     "data": {
      "image/png": "[encoded data removed]",
      "text/plain": [
       "<Figure size 360x360 with 1 Axes>"
      ]
     },
     "metadata": {
      "needs_background": "light"
     },
     "output_type": "display_data"
    }
   ],
   "source": [
    "#Plot of average rating :\n",
    "sns.displot(df.average_rating)"
   ]
  },
  {
   "cell_type": "code",
   "execution_count": 648,
   "id": "8d91a993",
   "metadata": {},
   "outputs": [
    {
     "data": {
      "text/plain": [
       "<matplotlib.axes._subplots.AxesSubplot at 0x17efc5e40d0>"
      ]
     },
     "execution_count": 648,
     "metadata": {},
     "output_type": "execute_result"
    },
    {
     "data": {
      "image/png": "[encoded data removed]",
      "text/plain": [
       "<Figure size 720x720 with 1 Axes>"
      ]
     },
     "metadata": {
      "needs_background": "light"
     },
     "output_type": "display_data"
    }
   ],
   "source": [
    "#Plot of average rating, more precisely:\n",
    "plt.figure(figsize=(10,10))\n",
    "rating= df.average_rating.astype(float)\n",
    "sns.histplot(rating, bins=20)"
   ]
  },
  {
   "cell_type": "code",
   "execution_count": 649,
   "id": "1b624912",
   "metadata": {},
   "outputs": [
    {
     "data": {
      "text/plain": [
       "3.934075339386829"
      ]
     },
     "execution_count": 649,
     "metadata": {},
     "output_type": "execute_result"
    }
   ],
   "source": [
    "#Average rating/ Mean:\n",
    "df['average_rating'].mean()\n",
    "\n",
    "# The Average rating is 3.93"
   ]
  },
  {
   "cell_type": "markdown",
   "id": "f10b87c6",
   "metadata": {},
   "source": [
    "Like we saw before, the average rate is concentrated arround 4 --> = 3.93.\n",
    "But what about NULL values ? "
   ]
  },
  {
   "cell_type": "code",
   "execution_count": 735,
   "id": "6a67dea6",
   "metadata": {},
   "outputs": [
    {
     "name": "stdout",
     "output_type": "stream",
     "text": [
      "Count of total Average rating is =>  43758.72\n",
      "Count of missing or NULL Average rating is =>  False    11123\n",
      "Name: average_rating, dtype: int64\n"
     ]
    }
   ],
   "source": [
    "#Null values of average rating detection:\n",
    "print('Count of total Average rating is => ',df.average_rating.sum())\n",
    "\n",
    "print('Count of missing or NULL Average rating is => ',df.average_rating.isnull().value_counts())\n"
   ]
  },
  {
   "cell_type": "markdown",
   "id": "65b41945",
   "metadata": {},
   "source": [
    "About 25% of Average rating values are missing! Let's keep that on mind!"
   ]
  },
  {
   "cell_type": "markdown",
   "id": "252958b9",
   "metadata": {},
   "source": [
    "# Correlation table:\n",
    "Relation between our columns"
   ]
  },
  {
   "cell_type": "code",
   "execution_count": 650,
   "id": "a7fa79d4",
   "metadata": {
    "scrolled": true
   },
   "outputs": [
    {
     "data": {
      "text/html": [
       "<div>\n",
       "<style scoped>\n",
       "    .dataframe tbody tr th:only-of-type {\n",
       "        vertical-align: middle;\n",
       "    }\n",
       "\n",
       "    .dataframe tbody tr th {\n",
       "        vertical-align: top;\n",
       "    }\n",
       "\n",
       "    .dataframe thead th {\n",
       "        text-align: right;\n",
       "    }\n",
       "</style>\n",
       "<table border=\"1\" class=\"dataframe\">\n",
       "  <thead>\n",
       "    <tr style=\"text-align: right;\">\n",
       "      <th></th>\n",
       "      <th>average_rating</th>\n",
       "      <th>isbn13</th>\n",
       "      <th>num_pages</th>\n",
       "      <th>ratings_count</th>\n",
       "      <th>text_reviews_count</th>\n",
       "    </tr>\n",
       "  </thead>\n",
       "  <tbody>\n",
       "    <tr>\n",
       "      <th>average_rating</th>\n",
       "      <td>1.000000</td>\n",
       "      <td>-0.001965</td>\n",
       "      <td>0.150477</td>\n",
       "      <td>0.038224</td>\n",
       "      <td>0.033663</td>\n",
       "    </tr>\n",
       "    <tr>\n",
       "      <th>isbn13</th>\n",
       "      <td>-0.001965</td>\n",
       "      <td>1.000000</td>\n",
       "      <td>-0.009818</td>\n",
       "      <td>0.005494</td>\n",
       "      <td>0.008152</td>\n",
       "    </tr>\n",
       "    <tr>\n",
       "      <th>num_pages</th>\n",
       "      <td>0.150477</td>\n",
       "      <td>-0.009818</td>\n",
       "      <td>1.000000</td>\n",
       "      <td>0.034337</td>\n",
       "      <td>0.036977</td>\n",
       "    </tr>\n",
       "    <tr>\n",
       "      <th>ratings_count</th>\n",
       "      <td>0.038224</td>\n",
       "      <td>0.005494</td>\n",
       "      <td>0.034337</td>\n",
       "      <td>1.000000</td>\n",
       "      <td>0.865977</td>\n",
       "    </tr>\n",
       "    <tr>\n",
       "      <th>text_reviews_count</th>\n",
       "      <td>0.033663</td>\n",
       "      <td>0.008152</td>\n",
       "      <td>0.036977</td>\n",
       "      <td>0.865977</td>\n",
       "      <td>1.000000</td>\n",
       "    </tr>\n",
       "  </tbody>\n",
       "</table>\n",
       "</div>"
      ],
      "text/plain": [
       "                    average_rating    isbn13    num_pages  ratings_count  \\\n",
       "average_rating            1.000000 -0.001965     0.150477       0.038224   \n",
       "isbn13                   -0.001965  1.000000    -0.009818       0.005494   \n",
       "  num_pages               0.150477 -0.009818     1.000000       0.034337   \n",
       "ratings_count             0.038224  0.005494     0.034337       1.000000   \n",
       "text_reviews_count        0.033663  0.008152     0.036977       0.865977   \n",
       "\n",
       "                    text_reviews_count  \n",
       "average_rating                0.033663  \n",
       "isbn13                        0.008152  \n",
       "  num_pages                   0.036977  \n",
       "ratings_count                 0.865977  \n",
       "text_reviews_count            1.000000  "
      ]
     },
     "execution_count": 650,
     "metadata": {},
     "output_type": "execute_result"
    }
   ],
   "source": [
    "#Correlation table of data:\n",
    "df.corr()"
   ]
  },
  {
   "cell_type": "code",
   "execution_count": 651,
   "id": "b5eb08d9",
   "metadata": {
    "scrolled": true
   },
   "outputs": [
    {
     "data": {
      "image/png": "[encoded data removed]",
      "text/plain": [
       "<Figure size 720x720 with 2 Axes>"
      ]
     },
     "metadata": {
      "needs_background": "light"
     },
     "output_type": "display_data"
    }
   ],
   "source": [
    "#Correlation table (More presentable):\n",
    "plt.figure(figsize=(10,10))\n",
    "sns.heatmap(df.corr(),annot=True)\n",
    "plt.show()\n",
    "\n"
   ]
  },
  {
   "cell_type": "markdown",
   "id": "33baf0eb",
   "metadata": {},
   "source": [
    "\n",
    "We see a very strong correlation between the 'ratings_count' and the 'text_reviews_count' = 0.87 -> ~ 87%. \n",
    "We can say that when a person writes a review  will probably also give a rate to the book.\n",
    "\n",
    "On the other hand, we have a very weak correlation between others features. That's mean, we can get rid of many columns and just focus on ratings_count and the text_reviews_count.\n"
   ]
  },
  {
   "cell_type": "code",
   "execution_count": 737,
   "id": "166d6c1a",
   "metadata": {},
   "outputs": [
    {
     "name": "stdout",
     "output_type": "stream",
     "text": [
      "Count of Maximum Average rating is =>  4597666\n",
      "Count of minimum Average rating is =>  0\n",
      "Count of Average rating Mean is =>  17942.848062573048\n"
     ]
    }
   ],
   "source": [
    "#Rating count/ Mean, max and Min:\n",
    "print('Count of Maximum Average rating is => ',df['ratings_count'].max())\n",
    "print('Count of minimum Average rating is => ',df['ratings_count'].min())\n",
    "print('Count of Average rating Mean is => ',df['ratings_count'].mean())\n"
   ]
  },
  {
   "cell_type": "code",
   "execution_count": 738,
   "id": "32a6ec00",
   "metadata": {},
   "outputs": [
    {
     "name": "stdout",
     "output_type": "stream",
     "text": [
      "Count of Maximum text_reviews_count is =>  94265\n"
     ]
    }
   ],
   "source": [
    "print('Count of Maximum text_reviews_count is => ',df['text_reviews_count'].max())"
   ]
  },
  {
   "cell_type": "markdown",
   "id": "18e8d701",
   "metadata": {},
   "source": [
    "Rating_Count : Let's analyse the more rated books:"
   ]
  },
  {
   "cell_type": "code",
   "execution_count": 739,
   "id": "a8849160",
   "metadata": {},
   "outputs": [
    {
     "data": {
      "text/html": [
       "<div>\n",
       "<style scoped>\n",
       "    .dataframe tbody tr th:only-of-type {\n",
       "        vertical-align: middle;\n",
       "    }\n",
       "\n",
       "    .dataframe tbody tr th {\n",
       "        vertical-align: top;\n",
       "    }\n",
       "\n",
       "    .dataframe thead th {\n",
       "        text-align: right;\n",
       "    }\n",
       "</style>\n",
       "<table border=\"1\" class=\"dataframe\">\n",
       "  <thead>\n",
       "    <tr style=\"text-align: right;\">\n",
       "      <th></th>\n",
       "      <th>title</th>\n",
       "      <th>ratings_count</th>\n",
       "    </tr>\n",
       "    <tr>\n",
       "      <th>bookID</th>\n",
       "      <th></th>\n",
       "      <th></th>\n",
       "    </tr>\n",
       "  </thead>\n",
       "  <tbody>\n",
       "    <tr>\n",
       "      <th>41865</th>\n",
       "      <td>Twilight (Twilight  #1)</td>\n",
       "      <td>4597666</td>\n",
       "    </tr>\n",
       "    <tr>\n",
       "      <th>5907</th>\n",
       "      <td>The Hobbit  or There and Back Again</td>\n",
       "      <td>2530894</td>\n",
       "    </tr>\n",
       "    <tr>\n",
       "      <th>5107</th>\n",
       "      <td>The Catcher in the Rye</td>\n",
       "      <td>2457092</td>\n",
       "    </tr>\n",
       "    <tr>\n",
       "      <th>960</th>\n",
       "      <td>Angels &amp; Demons (Robert Langdon  #1)</td>\n",
       "      <td>2418736</td>\n",
       "    </tr>\n",
       "    <tr>\n",
       "      <th>5</th>\n",
       "      <td>Harry Potter and the Prisoner of Azkaban (Harr...</td>\n",
       "      <td>2339585</td>\n",
       "    </tr>\n",
       "    <tr>\n",
       "      <th>15881</th>\n",
       "      <td>Harry Potter and the Chamber of Secrets (Harry...</td>\n",
       "      <td>2293963</td>\n",
       "    </tr>\n",
       "    <tr>\n",
       "      <th>2</th>\n",
       "      <td>Harry Potter and the Order of the Phoenix (Har...</td>\n",
       "      <td>2153167</td>\n",
       "    </tr>\n",
       "    <tr>\n",
       "      <th>34</th>\n",
       "      <td>The Fellowship of the Ring (The Lord of the Ri...</td>\n",
       "      <td>2128944</td>\n",
       "    </tr>\n",
       "    <tr>\n",
       "      <th>7613</th>\n",
       "      <td>Animal Farm</td>\n",
       "      <td>2111750</td>\n",
       "    </tr>\n",
       "    <tr>\n",
       "      <th>1</th>\n",
       "      <td>Harry Potter and the Half-Blood Prince (Harry ...</td>\n",
       "      <td>2095690</td>\n",
       "    </tr>\n",
       "  </tbody>\n",
       "</table>\n",
       "</div>"
      ],
      "text/plain": [
       "                                                    title  ratings_count\n",
       "bookID                                                                  \n",
       "41865                             Twilight (Twilight  #1)        4597666\n",
       "5907                  The Hobbit  or There and Back Again        2530894\n",
       "5107                               The Catcher in the Rye        2457092\n",
       "960                  Angels & Demons (Robert Langdon  #1)        2418736\n",
       "5       Harry Potter and the Prisoner of Azkaban (Harr...        2339585\n",
       "15881   Harry Potter and the Chamber of Secrets (Harry...        2293963\n",
       "2       Harry Potter and the Order of the Phoenix (Har...        2153167\n",
       "34      The Fellowship of the Ring (The Lord of the Ri...        2128944\n",
       "7613                                          Animal Farm        2111750\n",
       "1       Harry Potter and the Half-Blood Prince (Harry ...        2095690"
      ]
     },
     "execution_count": 739,
     "metadata": {},
     "output_type": "execute_result"
    }
   ],
   "source": [
    "#Books with best big ratings counts:\n",
    "Best_rated_books = df.sort_values(by=\"ratings_count\", ascending = False).head(10)\n",
    "\n",
    "Best_rated_titles = pd.DataFrame(Best_rated_books.title).join(pd.DataFrame(Best_rated_books.ratings_count))\n",
    "Best_rated_titles\n",
    "\n"
   ]
  },
  {
   "cell_type": "code",
   "execution_count": 743,
   "id": "c8292f92",
   "metadata": {},
   "outputs": [
    {
     "name": "stderr",
     "output_type": "stream",
     "text": [
      "C:\\Users\\YCH\\anaconda3\\lib\\site-packages\\seaborn\\_decorators.py:36: FutureWarning:\n",
      "\n",
      "Pass the following variables as keyword args: x, y. From version 0.12, the only valid positional argument will be `data`, and passing other arguments without an explicit keyword will result in an error or misinterpretation.\n",
      "\n"
     ]
    },
    {
     "data": {
      "text/plain": [
       "<matplotlib.axes._subplots.AxesSubplot at 0x17f0deeee20>"
      ]
     },
     "execution_count": 743,
     "metadata": {},
     "output_type": "execute_result"
    },
    {
     "data": {
      "image/png": "[encoded data removed]",
      "text/plain": [
       "<Figure size 1080x720 with 1 Axes>"
      ]
     },
     "metadata": {
      "needs_background": "light"
     },
     "output_type": "display_data"
    }
   ],
   "source": [
    "#Ploting:Best-rated-books:\n",
    "Best_rated_books_Plot= Best_rated_books.set_index('title')\n",
    "plt.figure(figsize=(15,10))\n",
    "sns.barplot(Best_rated_books_Plot['ratings_count'], Best_rated_books_Plot.index, palette='rocket')"
   ]
  },
  {
   "cell_type": "markdown",
   "id": "3b071b8e",
   "metadata": {},
   "source": [
    "text reviews counts: Let's analyse the books with max text reviews counts:"
   ]
  },
  {
   "cell_type": "code",
   "execution_count": 744,
   "id": "55a3cac2",
   "metadata": {
    "scrolled": true
   },
   "outputs": [
    {
     "name": "stderr",
     "output_type": "stream",
     "text": [
      "C:\\Users\\YCH\\anaconda3\\lib\\site-packages\\seaborn\\_decorators.py:36: FutureWarning:\n",
      "\n",
      "Pass the following variables as keyword args: x, y. From version 0.12, the only valid positional argument will be `data`, and passing other arguments without an explicit keyword will result in an error or misinterpretation.\n",
      "\n"
     ]
    },
    {
     "data": {
      "image/png": "[encoded data removed]",
      "text/plain": [
       "<Figure size 1080x720 with 1 Axes>"
      ]
     },
     "metadata": {
      "needs_background": "light"
     },
     "output_type": "display_data"
    }
   ],
   "source": [
    "#Books with max text reviews counts + ploting:\n",
    "\n",
    "most_text = df.sort_values('text_reviews_count', ascending = False).head(10).set_index('title')\n",
    "plt.figure(figsize=(15,10))\n",
    "sns.set_context('poster')\n",
    "ax = sns.barplot(most_text['text_reviews_count'], most_text.index, palette='magma')\n",
    "for i in ax.patches:\n",
    "    ax.text(i.get_width()+2, i.get_y()+0.5,str(round(i.get_width())), fontsize=10,color='black')\n",
    "plt.show()"
   ]
  },
  {
   "cell_type": "markdown",
   "id": "34cf2db2",
   "metadata": {},
   "source": [
    "We can see that the books with the best rates are not specially the books with max text review (Except for Twilight #1)"
   ]
  },
  {
   "cell_type": "code",
   "execution_count": 661,
   "id": "a1c78d19",
   "metadata": {},
   "outputs": [
    {
     "name": "stderr",
     "output_type": "stream",
     "text": [
      "C:\\Users\\YCH\\anaconda3\\lib\\site-packages\\seaborn\\_decorators.py:36: FutureWarning:\n",
      "\n",
      "Pass the following variables as keyword args: x, y. From version 0.12, the only valid positional argument will be `data`, and passing other arguments without an explicit keyword will result in an error or misinterpretation.\n",
      "\n"
     ]
    },
    {
     "data": {
      "image/png": "[encoded data removed]",
      "text/plain": [
       "<Figure size 1080x720 with 1 Axes>"
      ]
     },
     "metadata": {
      "needs_background": "light"
     },
     "output_type": "display_data"
    }
   ],
   "source": [
    "#High rated authors:\n",
    "high_rated_author = df[df['average_rating']>=4]\n",
    "high_rated_author = high_rated_author.groupby('authors')['title'].count().reset_index().sort_values('title', ascending = False).head(10).set_index('authors')\n",
    "plt.figure(figsize=(15,10))\n",
    "ax = sns.barplot(high_rated_author['title'], high_rated_author.index, palette='Set2')\n",
    "ax.set_xlabel(\"Number of Books\")\n",
    "ax.set_ylabel(\"Authors\")\n",
    "for i in ax.patches:\n",
    "    ax.text(i.get_width()+.3, i.get_y()+0.5, str(round(i.get_width())), fontsize = 10, color = 'k')"
   ]
  },
  {
   "cell_type": "markdown",
   "id": "29563092",
   "metadata": {},
   "source": [
    "Let's check correlations between features:"
   ]
  },
  {
   "cell_type": "code",
   "execution_count": 748,
   "id": "61ad8a5f",
   "metadata": {},
   "outputs": [
    {
     "data": {
      "image/png": "[encoded data removed]",
      "text/plain": [
       "<Figure size 576x576 with 1 Axes>"
      ]
     },
     "metadata": {
      "needs_background": "light"
     },
     "output_type": "display_data"
    }
   ],
   "source": [
    "#Relation between Rating count and Average rating:\n",
    "\n",
    "def scatter_plot(x, y, title, x_label, y_label):\n",
    "    plt.subplots(figsize=(8, 8))\n",
    "    plt.scatter(x,\n",
    "                y)\n",
    "    plt.title(title)\n",
    "    plt.xlabel(x_label)\n",
    "    plt.ylabel(y_label)\n",
    "\n",
    "ratings_count_and_average_count = \"Relation between ratings count and Average rating\"\n",
    "ratings_count_label = \"Ratings count\"\n",
    "text_reviews_count_label = \"average_count\"\n",
    "scatter_plot(df.average_rating,\n",
    "             df.ratings_count,\n",
    "            ratings_count_and_average_count,ratings_count_label, text_reviews_count_label )"
   ]
  },
  {
   "cell_type": "markdown",
   "id": "c9db0137",
   "metadata": {},
   "source": [
    "RMQ: There are a lot of outliers in our \"Relation between ratings count and Average rating\" plot . We can conclude that, there is no significant relation between average rating and the Ratings count, like is already shown in correlation table --> The correlation between average rating and the Ratings count is equal to 0.038 = Very weak correlation.\n",
    "Let's remove this relation from the rest of our study."
   ]
  },
  {
   "cell_type": "code",
   "execution_count": 749,
   "id": "009c6d65",
   "metadata": {},
   "outputs": [
    {
     "data": {
      "image/png": "[encoded data removed]",
      "text/plain": [
       "<Figure size 576x576 with 1 Axes>"
      ]
     },
     "metadata": {
      "needs_background": "light"
     },
     "output_type": "display_data"
    }
   ],
   "source": [
    "#Relation between Pages count and average rating\n",
    "\n",
    "def scatter_plot(x, y, title, x_label, y_label):\n",
    "    plt.subplots(figsize=(8, 8))\n",
    "    plt.scatter(x,\n",
    "                y)\n",
    "    plt.title(title)\n",
    "    plt.xlabel(x_label)\n",
    "    plt.ylabel(y_label)\n",
    "\n",
    "num_pages_and_average_rating_title = \"Relation between pages count and average rating\"\n",
    "average_rating_label = \"Average rating\"\n",
    "num_pages_label = \"num_pages\"\n",
    "scatter_plot(Df.average_rating,\n",
    "             Df.num_pages,\n",
    "            num_pages_and_average_rating_title, average_rating_label, num_pages_label)\n"
   ]
  },
  {
   "cell_type": "markdown",
   "id": "30e8700a",
   "metadata": {},
   "source": [
    "RMQ: Same as previous study, There are a lot of outliers here in \"Relation between pages count and average rating\" plot. \n",
    "We can also conclude that is no significant relation between average rating and the count of books pages.\n",
    " \n",
    "like is already shown in correlation table --> The correlation between average rating and the book pages number is equal to 0.15 = Very weak correlation. Let's also remove this relation from the rest of our study.\n"
   ]
  },
  {
   "cell_type": "code",
   "execution_count": 750,
   "id": "d5f64bdd",
   "metadata": {},
   "outputs": [
    {
     "data": {
      "image/png": "[encoded data removed]",
      "text/plain": [
       "<Figure size 576x576 with 1 Axes>"
      ]
     },
     "metadata": {
      "needs_background": "light"
     },
     "output_type": "display_data"
    }
   ],
   "source": [
    "#Relation between rating count and text reviews count (Correlation is good, so let's check it):\n",
    "\n",
    "def scatter_plot(x, y, title, x_label, y_label):\n",
    "    plt.subplots(figsize=(8, 8))\n",
    "    plt.scatter(x,\n",
    "                y)\n",
    "    plt.title(title)\n",
    "    plt.xlabel(x_label)\n",
    "    plt.ylabel(y_label)\n",
    "\n",
    "ratings_count_and_text_reviews_count = \"Relation between ratings count and text reviews count\"\n",
    "average_rating_label = \"text_reviews_count\"\n",
    "ratings_count_label = \"Ratings count\"\n",
    "scatter_plot(df.text_reviews_count,\n",
    "             df.ratings_count,\n",
    "            ratings_count_and_text_reviews_count, average_rating_label, ratings_count_label)\n",
    "\n"
   ]
  },
  {
   "cell_type": "markdown",
   "id": "0610718e",
   "metadata": {},
   "source": [
    "There is a positive linear relation between 'text_reviews_count' and 'Ratings_count', that is, as 'text_reviews_count' increases, 'Ratings_count' increases as well.\n",
    "So we have a positive correlation like already shown in the correlation table, where the correlation is equal to 0.87.\n",
    "\n",
    "Note: we can also see some outliers.\n",
    "\n",
    "Let's keep this relation for the rest of study."
   ]
  },
  {
   "cell_type": "code",
   "execution_count": 867,
   "id": "bc0331ca",
   "metadata": {},
   "outputs": [
    {
     "data": {
      "image/png": "[encoded data removed]",
      "text/plain": [
       "<Figure size 576x576 with 1 Axes>"
      ]
     },
     "metadata": {
      "needs_background": "light"
     },
     "output_type": "display_data"
    }
   ],
   "source": [
    "#Relation between average ratings and text reviews count (Correlation is good, so let's check it):\n",
    "\n",
    "def scatter_plot(x, y, title, x_label, y_label):\n",
    "    plt.subplots(figsize=(8, 8))\n",
    "    plt.scatter(x,\n",
    "                y)\n",
    "    plt.title(title)\n",
    "    plt.xlabel(x_label)\n",
    "    plt.ylabel(y_label)\n",
    "\n",
    "Average_ratings_and_text_reviews_count = \"Relation between Average ratings and text reviews count\"\n",
    "average_rating_label = \"text_reviews_count\"\n",
    "ratings_count_label = \"Average ratings \"\n",
    "scatter_plot(df.text_reviews_count,\n",
    "             df.average_rating,\n",
    "            Average_ratings_and_text_reviews_count, average_rating_label, ratings_count_label)"
   ]
  },
  {
   "cell_type": "markdown",
   "id": "78f52951",
   "metadata": {},
   "source": [
    "Most of values are concentrated between 0 and 20000 'text_reviex_count' for an average rating specially equal to ~4.\n",
    "Note= there is no correlation between those features."
   ]
  },
  {
   "cell_type": "markdown",
   "id": "560adc64",
   "metadata": {},
   "source": [
    "# Data Preprocessing /Feature Engineering\n",
    "\n",
    "The aim of Data preprocessing,is to convert our data into machine-readable form that can be interpreted, analysed and used by machine learning algorithms.\n"
   ]
  },
  {
   "cell_type": "code",
   "execution_count": 665,
   "id": "2be09dfc",
   "metadata": {},
   "outputs": [
    {
     "data": {
      "text/plain": [
       "title                  object\n",
       "authors                object\n",
       "average_rating        float64\n",
       "isbn                   object\n",
       "isbn13                  int64\n",
       "language_code          object\n",
       "  num_pages             int64\n",
       "ratings_count           int64\n",
       "text_reviews_count      int64\n",
       "publication_date       object\n",
       "publisher              object\n",
       "dtype: object"
      ]
     },
     "execution_count": 665,
     "metadata": {},
     "output_type": "execute_result"
    }
   ],
   "source": [
    "#Let's check of our columns types:\n",
    "df.dtypes"
   ]
  },
  {
   "cell_type": "code",
   "execution_count": 667,
   "id": "66c36f9c",
   "metadata": {},
   "outputs": [
    {
     "name": "stdout",
     "output_type": "stream",
     "text": [
      "Index(['title', 'authors', 'average_rating', 'isbn', 'isbn13', 'language_code',\n",
      "       '  num_pages', 'ratings_count', 'text_reviews_count',\n",
      "       'publication_date', 'publisher'],\n",
      "      dtype='object')\n"
     ]
    }
   ],
   "source": [
    "#Columns names:\n",
    "print(df.columns)"
   ]
  },
  {
   "cell_type": "code",
   "execution_count": 668,
   "id": "ac7453a1",
   "metadata": {},
   "outputs": [
    {
     "name": "stdout",
     "output_type": "stream",
     "text": [
      "List of columns : Index(['title', 'authors', 'average_rating', 'isbn', 'isbn13', 'language_code',\n",
      "       'num_pages', 'ratings_count', 'text_reviews_count', 'publication_date',\n",
      "       'publisher'],\n",
      "      dtype='object')\n"
     ]
    }
   ],
   "source": [
    "#Replace the'  num_pages' to avoid any further problem:\n",
    "Df= df.rename(columns={'  num_pages': 'num_pages'})\n",
    "print('List of columns :', Df.columns)\n"
   ]
  },
  {
   "cell_type": "markdown",
   "id": "852aa43e",
   "metadata": {},
   "source": [
    "We previously saw, that the best rated books (Twilight, harry potter and others...) have a books collection..\n",
    "Let's analyse it:"
   ]
  },
  {
   "cell_type": "code",
   "execution_count": 669,
   "id": "1d64e0fb",
   "metadata": {},
   "outputs": [
    {
     "data": {
      "text/html": [
       "<div>\n",
       "<style scoped>\n",
       "    .dataframe tbody tr th:only-of-type {\n",
       "        vertical-align: middle;\n",
       "    }\n",
       "\n",
       "    .dataframe tbody tr th {\n",
       "        vertical-align: top;\n",
       "    }\n",
       "\n",
       "    .dataframe thead th {\n",
       "        text-align: right;\n",
       "    }\n",
       "</style>\n",
       "<table border=\"1\" class=\"dataframe\">\n",
       "  <thead>\n",
       "    <tr style=\"text-align: right;\">\n",
       "      <th></th>\n",
       "      <th>title</th>\n",
       "      <th>authors</th>\n",
       "      <th>average_rating</th>\n",
       "      <th>isbn</th>\n",
       "      <th>isbn13</th>\n",
       "      <th>language_code</th>\n",
       "      <th>num_pages</th>\n",
       "      <th>ratings_count</th>\n",
       "      <th>text_reviews_count</th>\n",
       "      <th>publication_date</th>\n",
       "      <th>publisher</th>\n",
       "    </tr>\n",
       "    <tr>\n",
       "      <th>bookID</th>\n",
       "      <th></th>\n",
       "      <th></th>\n",
       "      <th></th>\n",
       "      <th></th>\n",
       "      <th></th>\n",
       "      <th></th>\n",
       "      <th></th>\n",
       "      <th></th>\n",
       "      <th></th>\n",
       "      <th></th>\n",
       "      <th></th>\n",
       "    </tr>\n",
       "  </thead>\n",
       "  <tbody>\n",
       "    <tr>\n",
       "      <th>1</th>\n",
       "      <td>Harry Potter and the Half-Blood Prince (Harry ...</td>\n",
       "      <td>J.K. Rowling/Mary GrandPré</td>\n",
       "      <td>4.57</td>\n",
       "      <td>0439785960</td>\n",
       "      <td>9780439785969</td>\n",
       "      <td>eng</td>\n",
       "      <td>652</td>\n",
       "      <td>2095690</td>\n",
       "      <td>27591</td>\n",
       "      <td>9/16/2006</td>\n",
       "      <td>Scholastic Inc.</td>\n",
       "    </tr>\n",
       "    <tr>\n",
       "      <th>2</th>\n",
       "      <td>Harry Potter and the Order of the Phoenix (Har...</td>\n",
       "      <td>J.K. Rowling/Mary GrandPré</td>\n",
       "      <td>4.49</td>\n",
       "      <td>0439358078</td>\n",
       "      <td>9780439358071</td>\n",
       "      <td>eng</td>\n",
       "      <td>870</td>\n",
       "      <td>2153167</td>\n",
       "      <td>29221</td>\n",
       "      <td>9/1/2004</td>\n",
       "      <td>Scholastic Inc.</td>\n",
       "    </tr>\n",
       "    <tr>\n",
       "      <th>4</th>\n",
       "      <td>Harry Potter and the Chamber of Secrets (Harry...</td>\n",
       "      <td>J.K. Rowling</td>\n",
       "      <td>4.42</td>\n",
       "      <td>0439554896</td>\n",
       "      <td>9780439554893</td>\n",
       "      <td>eng</td>\n",
       "      <td>352</td>\n",
       "      <td>6333</td>\n",
       "      <td>244</td>\n",
       "      <td>11/1/2003</td>\n",
       "      <td>Scholastic</td>\n",
       "    </tr>\n",
       "    <tr>\n",
       "      <th>5</th>\n",
       "      <td>Harry Potter and the Prisoner of Azkaban (Harr...</td>\n",
       "      <td>J.K. Rowling/Mary GrandPré</td>\n",
       "      <td>4.56</td>\n",
       "      <td>043965548X</td>\n",
       "      <td>9780439655484</td>\n",
       "      <td>eng</td>\n",
       "      <td>435</td>\n",
       "      <td>2339585</td>\n",
       "      <td>36325</td>\n",
       "      <td>5/1/2004</td>\n",
       "      <td>Scholastic Inc.</td>\n",
       "    </tr>\n",
       "    <tr>\n",
       "      <th>9</th>\n",
       "      <td>Unauthorized Harry Potter Book Seven News: \"Ha...</td>\n",
       "      <td>W. Frederick Zimmerman</td>\n",
       "      <td>3.74</td>\n",
       "      <td>0976540606</td>\n",
       "      <td>9780976540601</td>\n",
       "      <td>en-US</td>\n",
       "      <td>152</td>\n",
       "      <td>19</td>\n",
       "      <td>1</td>\n",
       "      <td>4/26/2005</td>\n",
       "      <td>Nimble Books</td>\n",
       "    </tr>\n",
       "    <tr>\n",
       "      <th>...</th>\n",
       "      <td>...</td>\n",
       "      <td>...</td>\n",
       "      <td>...</td>\n",
       "      <td>...</td>\n",
       "      <td>...</td>\n",
       "      <td>...</td>\n",
       "      <td>...</td>\n",
       "      <td>...</td>\n",
       "      <td>...</td>\n",
       "      <td>...</td>\n",
       "      <td>...</td>\n",
       "    </tr>\n",
       "    <tr>\n",
       "      <th>45631</th>\n",
       "      <td>Expelled from Eden: A William T. Vollmann Reader</td>\n",
       "      <td>William T. Vollmann/Larry McCaffery/Michael He...</td>\n",
       "      <td>4.06</td>\n",
       "      <td>1560254416</td>\n",
       "      <td>9781560254416</td>\n",
       "      <td>eng</td>\n",
       "      <td>512</td>\n",
       "      <td>156</td>\n",
       "      <td>20</td>\n",
       "      <td>12/21/2004</td>\n",
       "      <td>Da Capo Press</td>\n",
       "    </tr>\n",
       "    <tr>\n",
       "      <th>45633</th>\n",
       "      <td>You Bright and Risen Angels</td>\n",
       "      <td>William T. Vollmann</td>\n",
       "      <td>4.08</td>\n",
       "      <td>0140110879</td>\n",
       "      <td>9780140110876</td>\n",
       "      <td>eng</td>\n",
       "      <td>635</td>\n",
       "      <td>783</td>\n",
       "      <td>56</td>\n",
       "      <td>12/1/1988</td>\n",
       "      <td>Penguin Books</td>\n",
       "    </tr>\n",
       "    <tr>\n",
       "      <th>45634</th>\n",
       "      <td>The Ice-Shirt (Seven Dreams #1)</td>\n",
       "      <td>William T. Vollmann</td>\n",
       "      <td>3.96</td>\n",
       "      <td>0140131965</td>\n",
       "      <td>9780140131963</td>\n",
       "      <td>eng</td>\n",
       "      <td>415</td>\n",
       "      <td>820</td>\n",
       "      <td>95</td>\n",
       "      <td>8/1/1993</td>\n",
       "      <td>Penguin Books</td>\n",
       "    </tr>\n",
       "    <tr>\n",
       "      <th>45639</th>\n",
       "      <td>Poor People</td>\n",
       "      <td>William T. Vollmann</td>\n",
       "      <td>3.72</td>\n",
       "      <td>0060878827</td>\n",
       "      <td>9780060878825</td>\n",
       "      <td>eng</td>\n",
       "      <td>434</td>\n",
       "      <td>769</td>\n",
       "      <td>139</td>\n",
       "      <td>2/27/2007</td>\n",
       "      <td>Ecco</td>\n",
       "    </tr>\n",
       "    <tr>\n",
       "      <th>45641</th>\n",
       "      <td>Las aventuras de Tom Sawyer</td>\n",
       "      <td>Mark Twain</td>\n",
       "      <td>3.91</td>\n",
       "      <td>8497646983</td>\n",
       "      <td>9788497646987</td>\n",
       "      <td>spa</td>\n",
       "      <td>272</td>\n",
       "      <td>113</td>\n",
       "      <td>12</td>\n",
       "      <td>5/28/2006</td>\n",
       "      <td>Edimat Libros</td>\n",
       "    </tr>\n",
       "  </tbody>\n",
       "</table>\n",
       "<p>11081 rows × 11 columns</p>\n",
       "</div>"
      ],
      "text/plain": [
       "                                                    title  \\\n",
       "bookID                                                      \n",
       "1       Harry Potter and the Half-Blood Prince (Harry ...   \n",
       "2       Harry Potter and the Order of the Phoenix (Har...   \n",
       "4       Harry Potter and the Chamber of Secrets (Harry...   \n",
       "5       Harry Potter and the Prisoner of Azkaban (Harr...   \n",
       "9       Unauthorized Harry Potter Book Seven News: \"Ha...   \n",
       "...                                                   ...   \n",
       "45631    Expelled from Eden: A William T. Vollmann Reader   \n",
       "45633                         You Bright and Risen Angels   \n",
       "45634                     The Ice-Shirt (Seven Dreams #1)   \n",
       "45639                                         Poor People   \n",
       "45641                         Las aventuras de Tom Sawyer   \n",
       "\n",
       "                                                  authors  average_rating  \\\n",
       "bookID                                                                      \n",
       "1                              J.K. Rowling/Mary GrandPré            4.57   \n",
       "2                              J.K. Rowling/Mary GrandPré            4.49   \n",
       "4                                            J.K. Rowling            4.42   \n",
       "5                              J.K. Rowling/Mary GrandPré            4.56   \n",
       "9                                  W. Frederick Zimmerman            3.74   \n",
       "...                                                   ...             ...   \n",
       "45631   William T. Vollmann/Larry McCaffery/Michael He...            4.06   \n",
       "45633                                 William T. Vollmann            4.08   \n",
       "45634                                 William T. Vollmann            3.96   \n",
       "45639                                 William T. Vollmann            3.72   \n",
       "45641                                          Mark Twain            3.91   \n",
       "\n",
       "              isbn         isbn13 language_code  num_pages  ratings_count  \\\n",
       "bookID                                                                      \n",
       "1       0439785960  9780439785969           eng        652        2095690   \n",
       "2       0439358078  9780439358071           eng        870        2153167   \n",
       "4       0439554896  9780439554893           eng        352           6333   \n",
       "5       043965548X  9780439655484           eng        435        2339585   \n",
       "9       0976540606  9780976540601         en-US        152             19   \n",
       "...            ...            ...           ...        ...            ...   \n",
       "45631   1560254416  9781560254416           eng        512            156   \n",
       "45633   0140110879  9780140110876           eng        635            783   \n",
       "45634   0140131965  9780140131963           eng        415            820   \n",
       "45639   0060878827  9780060878825           eng        434            769   \n",
       "45641   8497646983  9788497646987           spa        272            113   \n",
       "\n",
       "        text_reviews_count publication_date        publisher  \n",
       "bookID                                                        \n",
       "1                    27591        9/16/2006  Scholastic Inc.  \n",
       "2                    29221         9/1/2004  Scholastic Inc.  \n",
       "4                      244        11/1/2003       Scholastic  \n",
       "5                    36325         5/1/2004  Scholastic Inc.  \n",
       "9                        1        4/26/2005     Nimble Books  \n",
       "...                    ...              ...              ...  \n",
       "45631                   20       12/21/2004    Da Capo Press  \n",
       "45633                   56        12/1/1988    Penguin Books  \n",
       "45634                   95         8/1/1993    Penguin Books  \n",
       "45639                  139        2/27/2007             Ecco  \n",
       "45641                   12        5/28/2006    Edimat Libros  \n",
       "\n",
       "[11081 rows x 11 columns]"
      ]
     },
     "execution_count": 669,
     "metadata": {},
     "output_type": "execute_result"
    }
   ],
   "source": [
    "# Collection and Boxed books:\n",
    "df_BOX_Collection = Df[~Df.title.str.contains('|'.join(['Collection', 'Boxed']))]\n",
    "df_BOX_Collection"
   ]
  },
  {
   "cell_type": "markdown",
   "id": "057b2911",
   "metadata": {},
   "source": [
    "What about languages ? "
   ]
  },
  {
   "cell_type": "code",
   "execution_count": 639,
   "id": "945ceb45",
   "metadata": {},
   "outputs": [
    {
     "data": {
      "text/plain": [
       "language_code\n",
       "ale        102.000000\n",
       "ara        122.000000\n",
       "en-CA     4086.714286\n",
       "en-GB     2463.691589\n",
       "en-US     3773.906960\n",
       "eng      21570.272564\n",
       "enm       3233.666667\n",
       "fre       3277.319444\n",
       "ger        234.727273\n",
       "gla         11.000000\n",
       "glg         36.000000\n",
       "grc         52.454545\n",
       "ita       3234.400000\n",
       "jpn         68.304348\n",
       "lat        114.666667\n",
       "msa         28.000000\n",
       "mul        386.631579\n",
       "nl          67.000000\n",
       "nor         86.000000\n",
       "por        165.100000\n",
       "rus       4477.000000\n",
       "spa       4636.114679\n",
       "srp          0.000000\n",
       "swe       2671.000000\n",
       "tur       1000.000000\n",
       "wel          1.000000\n",
       "zho         20.428571\n",
       "Name: ratings_count, dtype: float64"
      ]
     },
     "execution_count": 639,
     "metadata": {},
     "output_type": "execute_result"
    }
   ],
   "source": [
    "df.groupby([\"language_code\"]).mean().ratings_count\n",
    "#We can see that there is more ratings for english books"
   ]
  },
  {
   "cell_type": "code",
   "execution_count": 670,
   "id": "b0517867",
   "metadata": {},
   "outputs": [
    {
     "data": {
      "text/plain": [
       "array(['eng', 'en-US', 'fre', 'spa', 'en-GB', 'mul', 'grc', 'enm',\n",
       "       'en-CA', 'ger', 'jpn', 'ara', 'nl', 'zho', 'lat', 'por', 'srp',\n",
       "       'ita', 'rus', 'msa', 'glg', 'wel', 'swe', 'nor', 'tur', 'gla',\n",
       "       'ale'], dtype=object)"
      ]
     },
     "execution_count": 670,
     "metadata": {},
     "output_type": "execute_result"
    }
   ],
   "source": [
    "# We can list all the different languages available\n",
    "df_BOX_Collection.language_code.unique()"
   ]
  },
  {
   "cell_type": "code",
   "execution_count": 671,
   "id": "971fdc34",
   "metadata": {},
   "outputs": [
    {
     "data": {
      "image/png": "[encoded data removed]",
      "text/plain": [
       "<Figure size 1080x720 with 1 Axes>"
      ]
     },
     "metadata": {
      "needs_background": "light"
     },
     "output_type": "display_data"
    }
   ],
   "source": [
    "#books languages PLOT:\n",
    "sns.set_context('paper')\n",
    "plt.figure(figsize=(15,10))\n",
    "ax = df_BOX_Collection.groupby('language_code')['title'].count().plot.bar()\n",
    "plt.title('Language Code')\n",
    "plt.xticks(fontsize = 15)\n",
    "for p in ax.patches:\n",
    "    ax.annotate(str(p.get_height()), (p.get_x()-0.3, p.get_height()+100))\n",
    "\n"
   ]
  },
  {
   "cell_type": "markdown",
   "id": "982903a2",
   "metadata": {},
   "source": [
    "NOTE: We have different kind of english : 'en-CA','en-GB','en-US','eng' and 'enm'\n",
    "We can regroup them\n"
   ]
  },
  {
   "cell_type": "code",
   "execution_count": 804,
   "id": "228ac94a",
   "metadata": {},
   "outputs": [],
   "source": [
    "#Regroup all english books to 1 = eng and European books to Eur:\n",
    "df_Language_Group = df_BOX_Collection.replace(to_replace =[\"en-CA\", \"en-GB\", \"en-US\", \"enm\"], value =\"eng\")\n"
   ]
  },
  {
   "cell_type": "code",
   "execution_count": 805,
   "id": "e8213105",
   "metadata": {},
   "outputs": [
    {
     "data": {
      "image/png": "[encoded data removed]",
      "text/plain": [
       "<Figure size 1080x720 with 1 Axes>"
      ]
     },
     "metadata": {
      "needs_background": "light"
     },
     "output_type": "display_data"
    }
   ],
   "source": [
    "#books languages = Regrouped:\n",
    "sns.set_context('paper')\n",
    "plt.figure(figsize=(15,10))\n",
    "ax = df_Language_Group.groupby('language_code')['title'].count().plot.bar()\n",
    "plt.title('Language Code')\n",
    "plt.xticks(fontsize = 15)\n",
    "for p in ax.patches:\n",
    "    ax.annotate(str(p.get_height()), (p.get_x()-0.3, p.get_height()+100))"
   ]
  },
  {
   "cell_type": "code",
   "execution_count": 806,
   "id": "e9bea203",
   "metadata": {},
   "outputs": [
    {
     "name": "stdout",
     "output_type": "stream",
     "text": [
      "Index(['title', 'authors', 'average_rating', 'isbn', 'isbn13', 'language_code',\n",
      "       'num_pages', 'ratings_count', 'text_reviews_count', 'publication_date',\n",
      "       'publisher'],\n",
      "      dtype='object')\n"
     ]
    }
   ],
   "source": [
    "#Check the columns names:\n",
    "print(df_Language_Group.columns)"
   ]
  },
  {
   "cell_type": "code",
   "execution_count": 807,
   "id": "3c5c0d03",
   "metadata": {},
   "outputs": [
    {
     "data": {
      "text/plain": [
       "335.11975453478925"
      ]
     },
     "execution_count": 807,
     "metadata": {},
     "output_type": "execute_result"
    }
   ],
   "source": [
    "#Book's pages numbers:\n",
    "\n",
    "#Mean of pages number:\n",
    "df_Language_Group['num_pages'].mean()\n"
   ]
  },
  {
   "cell_type": "code",
   "execution_count": 808,
   "id": "d584eae9",
   "metadata": {
    "scrolled": true
   },
   "outputs": [
    {
     "data": {
      "text/html": [
       "<div>\n",
       "<style scoped>\n",
       "    .dataframe tbody tr th:only-of-type {\n",
       "        vertical-align: middle;\n",
       "    }\n",
       "\n",
       "    .dataframe tbody tr th {\n",
       "        vertical-align: top;\n",
       "    }\n",
       "\n",
       "    .dataframe thead th {\n",
       "        text-align: right;\n",
       "    }\n",
       "</style>\n",
       "<table border=\"1\" class=\"dataframe\">\n",
       "  <thead>\n",
       "    <tr style=\"text-align: right;\">\n",
       "      <th></th>\n",
       "      <th>title</th>\n",
       "      <th>authors</th>\n",
       "      <th>average_rating</th>\n",
       "      <th>isbn</th>\n",
       "      <th>isbn13</th>\n",
       "      <th>language_code</th>\n",
       "      <th>num_pages</th>\n",
       "      <th>ratings_count</th>\n",
       "      <th>text_reviews_count</th>\n",
       "      <th>publication_date</th>\n",
       "      <th>publisher</th>\n",
       "    </tr>\n",
       "    <tr>\n",
       "      <th>bookID</th>\n",
       "      <th></th>\n",
       "      <th></th>\n",
       "      <th></th>\n",
       "      <th></th>\n",
       "      <th></th>\n",
       "      <th></th>\n",
       "      <th></th>\n",
       "      <th></th>\n",
       "      <th></th>\n",
       "      <th></th>\n",
       "      <th></th>\n",
       "    </tr>\n",
       "  </thead>\n",
       "  <tbody>\n",
       "    <tr>\n",
       "      <th>955</th>\n",
       "      <td>The 5 Love Languages / The 5 Love Languages Jo...</td>\n",
       "      <td>Gary Chapman</td>\n",
       "      <td>4.70</td>\n",
       "      <td>0802415318</td>\n",
       "      <td>9780802415318</td>\n",
       "      <td>eng</td>\n",
       "      <td>0</td>\n",
       "      <td>22</td>\n",
       "      <td>4</td>\n",
       "      <td>1/1/2005</td>\n",
       "      <td>Moody Publishers</td>\n",
       "    </tr>\n",
       "    <tr>\n",
       "      <th>2835</th>\n",
       "      <td>The Tragedy of Pudd'nhead Wilson</td>\n",
       "      <td>Mark Twain/Michael Prichard</td>\n",
       "      <td>3.79</td>\n",
       "      <td>140015068X</td>\n",
       "      <td>9781400150687</td>\n",
       "      <td>eng</td>\n",
       "      <td>0</td>\n",
       "      <td>3</td>\n",
       "      <td>0</td>\n",
       "      <td>1/1/2003</td>\n",
       "      <td>Tantor Media</td>\n",
       "    </tr>\n",
       "    <tr>\n",
       "      <th>3593</th>\n",
       "      <td>Murder by Moonlight &amp; Other Mysteries (New Adv...</td>\n",
       "      <td>NOT A BOOK</td>\n",
       "      <td>4.00</td>\n",
       "      <td>0743564677</td>\n",
       "      <td>9780743564670</td>\n",
       "      <td>eng</td>\n",
       "      <td>0</td>\n",
       "      <td>7</td>\n",
       "      <td>2</td>\n",
       "      <td>10/3/2006</td>\n",
       "      <td>Simon  Schuster Audio</td>\n",
       "    </tr>\n",
       "    <tr>\n",
       "      <th>3599</th>\n",
       "      <td>The Unfortunate Tobacconist &amp; Other Mysteries ...</td>\n",
       "      <td>NOT A BOOK</td>\n",
       "      <td>3.50</td>\n",
       "      <td>074353395X</td>\n",
       "      <td>9780743533959</td>\n",
       "      <td>eng</td>\n",
       "      <td>0</td>\n",
       "      <td>12</td>\n",
       "      <td>1</td>\n",
       "      <td>10/1/2003</td>\n",
       "      <td>Simon &amp; Schuster Audio</td>\n",
       "    </tr>\n",
       "    <tr>\n",
       "      <th>4249</th>\n",
       "      <td>The Da Vinci Code (Robert Langdon  #2)</td>\n",
       "      <td>Dan Brown/Paul Michael</td>\n",
       "      <td>3.84</td>\n",
       "      <td>0739339788</td>\n",
       "      <td>9780739339787</td>\n",
       "      <td>eng</td>\n",
       "      <td>0</td>\n",
       "      <td>91</td>\n",
       "      <td>16</td>\n",
       "      <td>3/28/2006</td>\n",
       "      <td>Random House Audio</td>\n",
       "    </tr>\n",
       "    <tr>\n",
       "      <th>...</th>\n",
       "      <td>...</td>\n",
       "      <td>...</td>\n",
       "      <td>...</td>\n",
       "      <td>...</td>\n",
       "      <td>...</td>\n",
       "      <td>...</td>\n",
       "      <td>...</td>\n",
       "      <td>...</td>\n",
       "      <td>...</td>\n",
       "      <td>...</td>\n",
       "      <td>...</td>\n",
       "    </tr>\n",
       "    <tr>\n",
       "      <th>40378</th>\n",
       "      <td>The Chessmen of Mars (Barsoom #5)</td>\n",
       "      <td>Edgar Rice Burroughs/John Bolen</td>\n",
       "      <td>3.83</td>\n",
       "      <td>1400130212</td>\n",
       "      <td>9781400130214</td>\n",
       "      <td>eng</td>\n",
       "      <td>0</td>\n",
       "      <td>5147</td>\n",
       "      <td>157</td>\n",
       "      <td>1/1/2005</td>\n",
       "      <td>Tantor Media</td>\n",
       "    </tr>\n",
       "    <tr>\n",
       "      <th>41273</th>\n",
       "      <td>Fine Lines (One-Eyed Mack  #6)</td>\n",
       "      <td>Jim Lehrer</td>\n",
       "      <td>3.23</td>\n",
       "      <td>0517164353</td>\n",
       "      <td>9780517164358</td>\n",
       "      <td>eng</td>\n",
       "      <td>0</td>\n",
       "      <td>17</td>\n",
       "      <td>4</td>\n",
       "      <td>11/19/1995</td>\n",
       "      <td>Random House Value Publishing</td>\n",
       "    </tr>\n",
       "    <tr>\n",
       "      <th>43343</th>\n",
       "      <td>Stowaway and Milk Run: Two Unabridged Stories ...</td>\n",
       "      <td>Mary Higgins Clark/Jan Maxwell</td>\n",
       "      <td>3.49</td>\n",
       "      <td>0671046241</td>\n",
       "      <td>9780671046248</td>\n",
       "      <td>eng</td>\n",
       "      <td>0</td>\n",
       "      <td>64</td>\n",
       "      <td>2</td>\n",
       "      <td>12/1/1999</td>\n",
       "      <td>Simon &amp; Schuster Audio</td>\n",
       "    </tr>\n",
       "    <tr>\n",
       "      <th>44748</th>\n",
       "      <td>The Mask of the Enchantress</td>\n",
       "      <td>Victoria Holt</td>\n",
       "      <td>3.85</td>\n",
       "      <td>0449210847</td>\n",
       "      <td>9780449210840</td>\n",
       "      <td>eng</td>\n",
       "      <td>0</td>\n",
       "      <td>21</td>\n",
       "      <td>1</td>\n",
       "      <td>10/12/1981</td>\n",
       "      <td>Ivy Books</td>\n",
       "    </tr>\n",
       "    <tr>\n",
       "      <th>45472</th>\n",
       "      <td>Treasury of American Tall Tales: Volume 1: Dav...</td>\n",
       "      <td>David Bromberg/Jay Ungar/Molly Mason/Garrison ...</td>\n",
       "      <td>3.86</td>\n",
       "      <td>0739336509</td>\n",
       "      <td>9780739336502</td>\n",
       "      <td>eng</td>\n",
       "      <td>0</td>\n",
       "      <td>36</td>\n",
       "      <td>9</td>\n",
       "      <td>8/22/2006</td>\n",
       "      <td>Listening Library (Audio)</td>\n",
       "    </tr>\n",
       "  </tbody>\n",
       "</table>\n",
       "<p>71 rows × 11 columns</p>\n",
       "</div>"
      ],
      "text/plain": [
       "                                                    title  \\\n",
       "bookID                                                      \n",
       "955     The 5 Love Languages / The 5 Love Languages Jo...   \n",
       "2835                     The Tragedy of Pudd'nhead Wilson   \n",
       "3593    Murder by Moonlight & Other Mysteries (New Adv...   \n",
       "3599    The Unfortunate Tobacconist & Other Mysteries ...   \n",
       "4249               The Da Vinci Code (Robert Langdon  #2)   \n",
       "...                                                   ...   \n",
       "40378                   The Chessmen of Mars (Barsoom #5)   \n",
       "41273                      Fine Lines (One-Eyed Mack  #6)   \n",
       "43343   Stowaway and Milk Run: Two Unabridged Stories ...   \n",
       "44748                         The Mask of the Enchantress   \n",
       "45472   Treasury of American Tall Tales: Volume 1: Dav...   \n",
       "\n",
       "                                                  authors  average_rating  \\\n",
       "bookID                                                                      \n",
       "955                                          Gary Chapman            4.70   \n",
       "2835                          Mark Twain/Michael Prichard            3.79   \n",
       "3593                                           NOT A BOOK            4.00   \n",
       "3599                                           NOT A BOOK            3.50   \n",
       "4249                               Dan Brown/Paul Michael            3.84   \n",
       "...                                                   ...             ...   \n",
       "40378                     Edgar Rice Burroughs/John Bolen            3.83   \n",
       "41273                                          Jim Lehrer            3.23   \n",
       "43343                      Mary Higgins Clark/Jan Maxwell            3.49   \n",
       "44748                                       Victoria Holt            3.85   \n",
       "45472   David Bromberg/Jay Ungar/Molly Mason/Garrison ...            3.86   \n",
       "\n",
       "              isbn         isbn13 language_code  num_pages  ratings_count  \\\n",
       "bookID                                                                      \n",
       "955     0802415318  9780802415318           eng          0             22   \n",
       "2835    140015068X  9781400150687           eng          0              3   \n",
       "3593    0743564677  9780743564670           eng          0              7   \n",
       "3599    074353395X  9780743533959           eng          0             12   \n",
       "4249    0739339788  9780739339787           eng          0             91   \n",
       "...            ...            ...           ...        ...            ...   \n",
       "40378   1400130212  9781400130214           eng          0           5147   \n",
       "41273   0517164353  9780517164358           eng          0             17   \n",
       "43343   0671046241  9780671046248           eng          0             64   \n",
       "44748   0449210847  9780449210840           eng          0             21   \n",
       "45472   0739336509  9780739336502           eng          0             36   \n",
       "\n",
       "        text_reviews_count publication_date                      publisher  \n",
       "bookID                                                                      \n",
       "955                      4         1/1/2005               Moody Publishers  \n",
       "2835                     0         1/1/2003                   Tantor Media  \n",
       "3593                     2        10/3/2006          Simon  Schuster Audio  \n",
       "3599                     1        10/1/2003         Simon & Schuster Audio  \n",
       "4249                    16        3/28/2006             Random House Audio  \n",
       "...                    ...              ...                            ...  \n",
       "40378                  157         1/1/2005                   Tantor Media  \n",
       "41273                    4       11/19/1995  Random House Value Publishing  \n",
       "43343                    2        12/1/1999         Simon & Schuster Audio  \n",
       "44748                    1       10/12/1981                      Ivy Books  \n",
       "45472                    9        8/22/2006      Listening Library (Audio)  \n",
       "\n",
       "[71 rows x 11 columns]"
      ]
     },
     "execution_count": 808,
     "metadata": {},
     "output_type": "execute_result"
    }
   ],
   "source": [
    "df_Language_Group[df_Language_Group[\"num_pages\"] == 0]\n",
    "#We going to replace books that have 0 for number of pages by the mean of number of pages "
   ]
  },
  {
   "cell_type": "markdown",
   "id": "3ef97200",
   "metadata": {},
   "source": [
    "There is about 71 rows of missing values of books pages number."
   ]
  },
  {
   "cell_type": "code",
   "execution_count": 809,
   "id": "fe5d93c2",
   "metadata": {},
   "outputs": [],
   "source": [
    "#Replace 0 values by the mean of nb of pages.\n",
    "df_Language_Group.num_pages = df_Language_Group.num_pages.replace(0, np.nan)\n",
    "df_Language_Group.num_pages .fillna(float(df_Language_Group.num_pages.mean()), inplace=True)\n"
   ]
  },
  {
   "cell_type": "code",
   "execution_count": 810,
   "id": "e82c1e65",
   "metadata": {},
   "outputs": [
    {
     "data": {
      "text/html": [
       "<div>\n",
       "<style scoped>\n",
       "    .dataframe tbody tr th:only-of-type {\n",
       "        vertical-align: middle;\n",
       "    }\n",
       "\n",
       "    .dataframe tbody tr th {\n",
       "        vertical-align: top;\n",
       "    }\n",
       "\n",
       "    .dataframe thead th {\n",
       "        text-align: right;\n",
       "    }\n",
       "</style>\n",
       "<table border=\"1\" class=\"dataframe\">\n",
       "  <thead>\n",
       "    <tr style=\"text-align: right;\">\n",
       "      <th></th>\n",
       "      <th>title</th>\n",
       "      <th>authors</th>\n",
       "      <th>average_rating</th>\n",
       "      <th>isbn</th>\n",
       "      <th>isbn13</th>\n",
       "      <th>language_code</th>\n",
       "      <th>num_pages</th>\n",
       "      <th>ratings_count</th>\n",
       "      <th>text_reviews_count</th>\n",
       "      <th>publication_date</th>\n",
       "      <th>publisher</th>\n",
       "    </tr>\n",
       "    <tr>\n",
       "      <th>bookID</th>\n",
       "      <th></th>\n",
       "      <th></th>\n",
       "      <th></th>\n",
       "      <th></th>\n",
       "      <th></th>\n",
       "      <th></th>\n",
       "      <th></th>\n",
       "      <th></th>\n",
       "      <th></th>\n",
       "      <th></th>\n",
       "      <th></th>\n",
       "    </tr>\n",
       "  </thead>\n",
       "  <tbody>\n",
       "  </tbody>\n",
       "</table>\n",
       "</div>"
      ],
      "text/plain": [
       "Empty DataFrame\n",
       "Columns: [title, authors, average_rating, isbn, isbn13, language_code, num_pages, ratings_count, text_reviews_count, publication_date, publisher]\n",
       "Index: []"
      ]
     },
     "execution_count": 810,
     "metadata": {},
     "output_type": "execute_result"
    }
   ],
   "source": [
    "#Check if still have some 0 in our data.\n",
    "df_Language_Group[df_Language_Group[\"num_pages\"] == 0]"
   ]
  },
  {
   "cell_type": "code",
   "execution_count": 811,
   "id": "afad7e23",
   "metadata": {},
   "outputs": [
    {
     "data": {
      "text/plain": [
       "Text(0.5, 1.0, 'Boxplot of number of pages')"
      ]
     },
     "execution_count": 811,
     "metadata": {},
     "output_type": "execute_result"
    },
    {
     "data": {
      "image/png": "[encoded data removed]",
      "text/plain": [
       "<Figure size 720x720 with 1 Axes>"
      ]
     },
     "metadata": {
      "needs_background": "light"
     },
     "output_type": "display_data"
    }
   ],
   "source": [
    "#Plotting the pages numbers:\n",
    "plt.subplots(figsize=(10,10))\n",
    "plt.boxplot(df_Language_Group.num_pages)\n",
    "plt.xticks([1], [\"num_pages\"])\n",
    "plt.title(\"Boxplot of number of pages\")\n",
    "\n",
    "#The number of pages is concentrated mostly arround 0 and 3000."
   ]
  },
  {
   "cell_type": "code",
   "execution_count": 812,
   "id": "e140cef2",
   "metadata": {},
   "outputs": [
    {
     "data": {
      "text/plain": [
       "Text(0.5, 1.0, 'Boxplot of number of pages')"
      ]
     },
     "execution_count": 812,
     "metadata": {},
     "output_type": "execute_result"
    },
    {
     "data": {
      "image/png": "[encoded data removed]",
      "text/plain": [
       "<Figure size 720x720 with 1 Axes>"
      ]
     },
     "metadata": {
      "needs_background": "light"
     },
     "output_type": "display_data"
    }
   ],
   "source": [
    "#Get rid from outliers:\n",
    "df_nb_pages = df_Language_Group[(np.abs(stats.zscore(df_Language_Group['num_pages'])) < 3)]\n",
    "plt.subplots(figsize=(10,10))\n",
    "plt.boxplot(df_num_pages.num_pages)\n",
    "plt.xticks([1], [\"num_pages\"])\n",
    "plt.title(\"Boxplot of number of pages\")"
   ]
  },
  {
   "cell_type": "markdown",
   "id": "3f247095",
   "metadata": {},
   "source": [
    "Note: The mean of pages numbers is arround 300 pages."
   ]
  },
  {
   "cell_type": "code",
   "execution_count": 813,
   "id": "8deccab5",
   "metadata": {},
   "outputs": [
    {
     "data": {
      "text/plain": [
       "Text(0.5, 1.0, 'Boxplot of ratings count')"
      ]
     },
     "execution_count": 813,
     "metadata": {},
     "output_type": "execute_result"
    },
    {
     "data": {
      "image/png": "[encoded data removed]",
      "text/plain": [
       "<Figure size 720x720 with 1 Axes>"
      ]
     },
     "metadata": {
      "needs_background": "light"
     },
     "output_type": "display_data"
    }
   ],
   "source": [
    "#Rating count:\n",
    "plt.subplots(figsize=(10,10))\n",
    "plt.boxplot(df_Language_Group.num_pages)\n",
    "plt.xticks([1], [\"ratings_count\"])\n",
    "plt.title(\"Boxplot of ratings count\")\n",
    "\n",
    "#The rating count is concentrated mostly arround 0 and 2500."
   ]
  },
  {
   "cell_type": "code",
   "execution_count": 814,
   "id": "183ae142",
   "metadata": {},
   "outputs": [
    {
     "name": "stderr",
     "output_type": "stream",
     "text": [
      "C:\\Users\\YCH\\AppData\\Local\\Temp/ipykernel_7632/2043585891.py:2: UserWarning:\n",
      "\n",
      "Boolean Series key will be reindexed to match DataFrame index.\n",
      "\n"
     ]
    },
    {
     "data": {
      "text/plain": [
       "Text(0.5, 1.0, 'Boxplot of ratings count')"
      ]
     },
     "execution_count": 814,
     "metadata": {},
     "output_type": "execute_result"
    },
    {
     "data": {
      "image/png": "[encoded data removed]",
      "text/plain": [
       "<Figure size 720x720 with 1 Axes>"
      ]
     },
     "metadata": {
      "needs_background": "light"
     },
     "output_type": "display_data"
    }
   ],
   "source": [
    "#Reduce outliers of Ratings count:\n",
    "df_ratings_count = df_nb_pages[(np.abs(stats.zscore(df_num_pages['ratings_count'])) < 2.5)]\n",
    "\n",
    "plt.subplots(figsize=(10,10))\n",
    "plt.boxplot(df_ratings_count.ratings_count)\n",
    "plt.xticks([1], [\"ratings_count\"])\n",
    "plt.title(\"Boxplot of ratings count\")"
   ]
  },
  {
   "cell_type": "code",
   "execution_count": 815,
   "id": "061a7e29",
   "metadata": {},
   "outputs": [
    {
     "data": {
      "text/plain": [
       "Text(0.5, 1.0, 'Boxplot of reviews count')"
      ]
     },
     "execution_count": 815,
     "metadata": {},
     "output_type": "execute_result"
    },
    {
     "data": {
      "image/png": "[encoded data removed]",
      "text/plain": [
       "<Figure size 720x720 with 1 Axes>"
      ]
     },
     "metadata": {
      "needs_background": "light"
     },
     "output_type": "display_data"
    }
   ],
   "source": [
    "#Reviews count:\n",
    "plt.subplots(figsize=(10,10))\n",
    "plt.boxplot(df_ratings_count.text_reviews_count)\n",
    "plt.xticks([1], [\"text_reviews_count\"])\n",
    "plt.title(\"Boxplot of reviews count\")"
   ]
  },
  {
   "cell_type": "code",
   "execution_count": 816,
   "id": "88643753",
   "metadata": {},
   "outputs": [
    {
     "data": {
      "text/plain": [
       "Text(0.5, 1.0, 'Boxplot of reviews count')"
      ]
     },
     "execution_count": 816,
     "metadata": {},
     "output_type": "execute_result"
    },
    {
     "data": {
      "image/png": "[encoded data removed]",
      "text/plain": [
       "<Figure size 720x720 with 1 Axes>"
      ]
     },
     "metadata": {
      "needs_background": "light"
     },
     "output_type": "display_data"
    }
   ],
   "source": [
    "#Reduce outliers:\n",
    "df_text_reviews_count = df_ratings_count[(np.abs(stats.zscore(df_ratings_count['text_reviews_count'])) < 15)]\n",
    "plt.subplots(figsize=(10,10))\n",
    "plt.boxplot(df_text_reviews_count.text_reviews_count)\n",
    "plt.xticks([1], [\"text_reviews_count\"])\n",
    "plt.title(\"Boxplot of reviews count\")"
   ]
  },
  {
   "cell_type": "code",
   "execution_count": 817,
   "id": "56a8898b",
   "metadata": {},
   "outputs": [],
   "source": [
    "Data = df_text_reviews_count"
   ]
  },
  {
   "cell_type": "code",
   "execution_count": 818,
   "id": "b1795b72",
   "metadata": {},
   "outputs": [
    {
     "data": {
      "text/html": [
       "<div>\n",
       "<style scoped>\n",
       "    .dataframe tbody tr th:only-of-type {\n",
       "        vertical-align: middle;\n",
       "    }\n",
       "\n",
       "    .dataframe tbody tr th {\n",
       "        vertical-align: top;\n",
       "    }\n",
       "\n",
       "    .dataframe thead th {\n",
       "        text-align: right;\n",
       "    }\n",
       "</style>\n",
       "<table border=\"1\" class=\"dataframe\">\n",
       "  <thead>\n",
       "    <tr style=\"text-align: right;\">\n",
       "      <th></th>\n",
       "      <th>title</th>\n",
       "      <th>authors</th>\n",
       "      <th>average_rating</th>\n",
       "      <th>isbn</th>\n",
       "      <th>isbn13</th>\n",
       "      <th>language_code</th>\n",
       "      <th>num_pages</th>\n",
       "      <th>ratings_count</th>\n",
       "      <th>text_reviews_count</th>\n",
       "      <th>publication_date</th>\n",
       "      <th>publisher</th>\n",
       "    </tr>\n",
       "    <tr>\n",
       "      <th>bookID</th>\n",
       "      <th></th>\n",
       "      <th></th>\n",
       "      <th></th>\n",
       "      <th></th>\n",
       "      <th></th>\n",
       "      <th></th>\n",
       "      <th></th>\n",
       "      <th></th>\n",
       "      <th></th>\n",
       "      <th></th>\n",
       "      <th></th>\n",
       "    </tr>\n",
       "  </thead>\n",
       "  <tbody>\n",
       "    <tr>\n",
       "      <th>4</th>\n",
       "      <td>Harry Potter and the Chamber of Secrets (Harry...</td>\n",
       "      <td>J.K. Rowling</td>\n",
       "      <td>4.42</td>\n",
       "      <td>0439554896</td>\n",
       "      <td>9780439554893</td>\n",
       "      <td>eng</td>\n",
       "      <td>352.0</td>\n",
       "      <td>6333</td>\n",
       "      <td>244</td>\n",
       "      <td>11/1/2003</td>\n",
       "      <td>Scholastic</td>\n",
       "    </tr>\n",
       "    <tr>\n",
       "      <th>9</th>\n",
       "      <td>Unauthorized Harry Potter Book Seven News: \"Ha...</td>\n",
       "      <td>W. Frederick Zimmerman</td>\n",
       "      <td>3.74</td>\n",
       "      <td>0976540606</td>\n",
       "      <td>9780976540601</td>\n",
       "      <td>eng</td>\n",
       "      <td>152.0</td>\n",
       "      <td>19</td>\n",
       "      <td>1</td>\n",
       "      <td>4/26/2005</td>\n",
       "      <td>Nimble Books</td>\n",
       "    </tr>\n",
       "    <tr>\n",
       "      <th>12</th>\n",
       "      <td>The Ultimate Hitchhiker's Guide: Five Complete...</td>\n",
       "      <td>Douglas Adams</td>\n",
       "      <td>4.38</td>\n",
       "      <td>0517226952</td>\n",
       "      <td>9780517226957</td>\n",
       "      <td>eng</td>\n",
       "      <td>815.0</td>\n",
       "      <td>3628</td>\n",
       "      <td>254</td>\n",
       "      <td>11/1/2005</td>\n",
       "      <td>Gramercy Books</td>\n",
       "    </tr>\n",
       "    <tr>\n",
       "      <th>13</th>\n",
       "      <td>The Ultimate Hitchhiker's Guide to the Galaxy ...</td>\n",
       "      <td>Douglas Adams</td>\n",
       "      <td>4.38</td>\n",
       "      <td>0345453743</td>\n",
       "      <td>9780345453747</td>\n",
       "      <td>eng</td>\n",
       "      <td>815.0</td>\n",
       "      <td>249558</td>\n",
       "      <td>4080</td>\n",
       "      <td>4/30/2002</td>\n",
       "      <td>Del Rey Books</td>\n",
       "    </tr>\n",
       "    <tr>\n",
       "      <th>14</th>\n",
       "      <td>The Hitchhiker's Guide to the Galaxy (Hitchhik...</td>\n",
       "      <td>Douglas Adams</td>\n",
       "      <td>4.22</td>\n",
       "      <td>1400052920</td>\n",
       "      <td>9781400052929</td>\n",
       "      <td>eng</td>\n",
       "      <td>215.0</td>\n",
       "      <td>4930</td>\n",
       "      <td>460</td>\n",
       "      <td>8/3/2004</td>\n",
       "      <td>Crown</td>\n",
       "    </tr>\n",
       "  </tbody>\n",
       "</table>\n",
       "</div>"
      ],
      "text/plain": [
       "                                                    title  \\\n",
       "bookID                                                      \n",
       "4       Harry Potter and the Chamber of Secrets (Harry...   \n",
       "9       Unauthorized Harry Potter Book Seven News: \"Ha...   \n",
       "12      The Ultimate Hitchhiker's Guide: Five Complete...   \n",
       "13      The Ultimate Hitchhiker's Guide to the Galaxy ...   \n",
       "14      The Hitchhiker's Guide to the Galaxy (Hitchhik...   \n",
       "\n",
       "                       authors  average_rating        isbn         isbn13  \\\n",
       "bookID                                                                      \n",
       "4                 J.K. Rowling            4.42  0439554896  9780439554893   \n",
       "9       W. Frederick Zimmerman            3.74  0976540606  9780976540601   \n",
       "12               Douglas Adams            4.38  0517226952  9780517226957   \n",
       "13               Douglas Adams            4.38  0345453743  9780345453747   \n",
       "14               Douglas Adams            4.22  1400052920  9781400052929   \n",
       "\n",
       "       language_code  num_pages  ratings_count  text_reviews_count  \\\n",
       "bookID                                                               \n",
       "4                eng      352.0           6333                 244   \n",
       "9                eng      152.0             19                   1   \n",
       "12               eng      815.0           3628                 254   \n",
       "13               eng      815.0         249558                4080   \n",
       "14               eng      215.0           4930                 460   \n",
       "\n",
       "       publication_date       publisher  \n",
       "bookID                                   \n",
       "4             11/1/2003      Scholastic  \n",
       "9             4/26/2005    Nimble Books  \n",
       "12            11/1/2005  Gramercy Books  \n",
       "13            4/30/2002   Del Rey Books  \n",
       "14             8/3/2004           Crown  "
      ]
     },
     "execution_count": 818,
     "metadata": {},
     "output_type": "execute_result"
    }
   ],
   "source": [
    "Data.head(5)"
   ]
  },
  {
   "cell_type": "code",
   "execution_count": 819,
   "id": "67bf2a1d",
   "metadata": {},
   "outputs": [
    {
     "data": {
      "text/plain": [
       "(10790, 11)"
      ]
     },
     "execution_count": 819,
     "metadata": {},
     "output_type": "execute_result"
    }
   ],
   "source": [
    "#Data.drop(['isbn13','isbn','publication_date','publisher'],axis=1,inplace=True)\n",
    "Data.shape"
   ]
  },
  {
   "cell_type": "code",
   "execution_count": 820,
   "id": "92ef15ee",
   "metadata": {},
   "outputs": [
    {
     "data": {
      "text/html": [
       "<div>\n",
       "<style scoped>\n",
       "    .dataframe tbody tr th:only-of-type {\n",
       "        vertical-align: middle;\n",
       "    }\n",
       "\n",
       "    .dataframe tbody tr th {\n",
       "        vertical-align: top;\n",
       "    }\n",
       "\n",
       "    .dataframe thead th {\n",
       "        text-align: right;\n",
       "    }\n",
       "</style>\n",
       "<table border=\"1\" class=\"dataframe\">\n",
       "  <thead>\n",
       "    <tr style=\"text-align: right;\">\n",
       "      <th></th>\n",
       "      <th>average_rating</th>\n",
       "      <th>language_code</th>\n",
       "      <th>num_pages</th>\n",
       "      <th>ratings_count</th>\n",
       "      <th>text_reviews_count</th>\n",
       "    </tr>\n",
       "    <tr>\n",
       "      <th>bookID</th>\n",
       "      <th></th>\n",
       "      <th></th>\n",
       "      <th></th>\n",
       "      <th></th>\n",
       "      <th></th>\n",
       "    </tr>\n",
       "  </thead>\n",
       "  <tbody>\n",
       "    <tr>\n",
       "      <th>4</th>\n",
       "      <td>4.42</td>\n",
       "      <td>eng</td>\n",
       "      <td>352.0</td>\n",
       "      <td>6333</td>\n",
       "      <td>244</td>\n",
       "    </tr>\n",
       "    <tr>\n",
       "      <th>9</th>\n",
       "      <td>3.74</td>\n",
       "      <td>eng</td>\n",
       "      <td>152.0</td>\n",
       "      <td>19</td>\n",
       "      <td>1</td>\n",
       "    </tr>\n",
       "    <tr>\n",
       "      <th>12</th>\n",
       "      <td>4.38</td>\n",
       "      <td>eng</td>\n",
       "      <td>815.0</td>\n",
       "      <td>3628</td>\n",
       "      <td>254</td>\n",
       "    </tr>\n",
       "    <tr>\n",
       "      <th>13</th>\n",
       "      <td>4.38</td>\n",
       "      <td>eng</td>\n",
       "      <td>815.0</td>\n",
       "      <td>249558</td>\n",
       "      <td>4080</td>\n",
       "    </tr>\n",
       "    <tr>\n",
       "      <th>14</th>\n",
       "      <td>4.22</td>\n",
       "      <td>eng</td>\n",
       "      <td>215.0</td>\n",
       "      <td>4930</td>\n",
       "      <td>460</td>\n",
       "    </tr>\n",
       "  </tbody>\n",
       "</table>\n",
       "</div>"
      ],
      "text/plain": [
       "        average_rating language_code  num_pages  ratings_count  \\\n",
       "bookID                                                           \n",
       "4                 4.42           eng      352.0           6333   \n",
       "9                 3.74           eng      152.0             19   \n",
       "12                4.38           eng      815.0           3628   \n",
       "13                4.38           eng      815.0         249558   \n",
       "14                4.22           eng      215.0           4930   \n",
       "\n",
       "        text_reviews_count  \n",
       "bookID                      \n",
       "4                      244  \n",
       "9                        1  \n",
       "12                     254  \n",
       "13                    4080  \n",
       "14                     460  "
      ]
     },
     "execution_count": 820,
     "metadata": {},
     "output_type": "execute_result"
    }
   ],
   "source": [
    "#Clean Data: We do not need the books ref, such that ISBN and ISBN13\n",
    "#Let's focus on the columns with with good correlation and those gives informations about the book:\n",
    "Data = Data.drop(columns=[\"title\",\"authors\",\"isbn\",\"isbn13\",\"publisher\",\"publication_date\"])\n",
    "Data.head(5)"
   ]
  },
  {
   "cell_type": "code",
   "execution_count": 821,
   "id": "0d1c45a4",
   "metadata": {},
   "outputs": [
    {
     "data": {
      "text/plain": [
       "Int64Index([    4,     9,    12,    13,    14,    16,    18,    21,    22,\n",
       "               23,\n",
       "            ...\n",
       "            45617, 45623, 45625, 45626, 45630, 45631, 45633, 45634, 45639,\n",
       "            45641],\n",
       "           dtype='int64', name='bookID', length=10790)"
      ]
     },
     "execution_count": 821,
     "metadata": {},
     "output_type": "execute_result"
    }
   ],
   "source": [
    "Data.index"
   ]
  },
  {
   "cell_type": "markdown",
   "id": "a8a8a3d9",
   "metadata": {},
   "source": [
    "# Data encoding\n"
   ]
  },
  {
   "cell_type": "markdown",
   "id": "b89685a3",
   "metadata": {},
   "source": [
    "get_dummies tranforms categorical data to numbers\n",
    "here we want to transform the \"Language\" column from ['eng', 'fr', etc...] to [0,1]\n"
   ]
  },
  {
   "cell_type": "code",
   "execution_count": 822,
   "id": "ed344672",
   "metadata": {},
   "outputs": [],
   "source": [
    "\n",
    "Data = pd.concat([Data,pd.get_dummies(Data.language_code, drop_first=False, prefix='lang')],axis=1).drop(columns=\"language_code\")\n"
   ]
  },
  {
   "cell_type": "code",
   "execution_count": 823,
   "id": "1148a9d2",
   "metadata": {},
   "outputs": [
    {
     "data": {
      "text/plain": [
       "average_rating        float64\n",
       "num_pages             float64\n",
       "ratings_count           int64\n",
       "text_reviews_count      int64\n",
       "lang_ale                uint8\n",
       "lang_ara                uint8\n",
       "lang_eng                uint8\n",
       "lang_fre                uint8\n",
       "lang_ger                uint8\n",
       "lang_gla                uint8\n",
       "lang_glg                uint8\n",
       "lang_grc                uint8\n",
       "lang_ita                uint8\n",
       "lang_jpn                uint8\n",
       "lang_lat                uint8\n",
       "lang_msa                uint8\n",
       "lang_mul                uint8\n",
       "lang_nl                 uint8\n",
       "lang_nor                uint8\n",
       "lang_por                uint8\n",
       "lang_rus                uint8\n",
       "lang_spa                uint8\n",
       "lang_srp                uint8\n",
       "lang_swe                uint8\n",
       "lang_tur                uint8\n",
       "lang_wel                uint8\n",
       "lang_zho                uint8\n",
       "dtype: object"
      ]
     },
     "execution_count": 823,
     "metadata": {},
     "output_type": "execute_result"
    }
   ],
   "source": [
    "Data.dtypes"
   ]
  },
  {
   "cell_type": "code",
   "execution_count": 824,
   "id": "8d49a7a1",
   "metadata": {},
   "outputs": [
    {
     "data": {
      "text/html": [
       "<div>\n",
       "<style scoped>\n",
       "    .dataframe tbody tr th:only-of-type {\n",
       "        vertical-align: middle;\n",
       "    }\n",
       "\n",
       "    .dataframe tbody tr th {\n",
       "        vertical-align: top;\n",
       "    }\n",
       "\n",
       "    .dataframe thead th {\n",
       "        text-align: right;\n",
       "    }\n",
       "</style>\n",
       "<table border=\"1\" class=\"dataframe\">\n",
       "  <thead>\n",
       "    <tr style=\"text-align: right;\">\n",
       "      <th></th>\n",
       "      <th>average_rating</th>\n",
       "      <th>num_pages</th>\n",
       "      <th>ratings_count</th>\n",
       "      <th>text_reviews_count</th>\n",
       "      <th>lang_ale</th>\n",
       "      <th>lang_ara</th>\n",
       "      <th>lang_eng</th>\n",
       "      <th>lang_fre</th>\n",
       "      <th>lang_ger</th>\n",
       "      <th>lang_gla</th>\n",
       "      <th>...</th>\n",
       "      <th>lang_nl</th>\n",
       "      <th>lang_nor</th>\n",
       "      <th>lang_por</th>\n",
       "      <th>lang_rus</th>\n",
       "      <th>lang_spa</th>\n",
       "      <th>lang_srp</th>\n",
       "      <th>lang_swe</th>\n",
       "      <th>lang_tur</th>\n",
       "      <th>lang_wel</th>\n",
       "      <th>lang_zho</th>\n",
       "    </tr>\n",
       "    <tr>\n",
       "      <th>bookID</th>\n",
       "      <th></th>\n",
       "      <th></th>\n",
       "      <th></th>\n",
       "      <th></th>\n",
       "      <th></th>\n",
       "      <th></th>\n",
       "      <th></th>\n",
       "      <th></th>\n",
       "      <th></th>\n",
       "      <th></th>\n",
       "      <th></th>\n",
       "      <th></th>\n",
       "      <th></th>\n",
       "      <th></th>\n",
       "      <th></th>\n",
       "      <th></th>\n",
       "      <th></th>\n",
       "      <th></th>\n",
       "      <th></th>\n",
       "      <th></th>\n",
       "      <th></th>\n",
       "    </tr>\n",
       "  </thead>\n",
       "  <tbody>\n",
       "    <tr>\n",
       "      <th>4</th>\n",
       "      <td>4.42</td>\n",
       "      <td>352.0</td>\n",
       "      <td>6333</td>\n",
       "      <td>244</td>\n",
       "      <td>0</td>\n",
       "      <td>0</td>\n",
       "      <td>1</td>\n",
       "      <td>0</td>\n",
       "      <td>0</td>\n",
       "      <td>0</td>\n",
       "      <td>...</td>\n",
       "      <td>0</td>\n",
       "      <td>0</td>\n",
       "      <td>0</td>\n",
       "      <td>0</td>\n",
       "      <td>0</td>\n",
       "      <td>0</td>\n",
       "      <td>0</td>\n",
       "      <td>0</td>\n",
       "      <td>0</td>\n",
       "      <td>0</td>\n",
       "    </tr>\n",
       "    <tr>\n",
       "      <th>9</th>\n",
       "      <td>3.74</td>\n",
       "      <td>152.0</td>\n",
       "      <td>19</td>\n",
       "      <td>1</td>\n",
       "      <td>0</td>\n",
       "      <td>0</td>\n",
       "      <td>1</td>\n",
       "      <td>0</td>\n",
       "      <td>0</td>\n",
       "      <td>0</td>\n",
       "      <td>...</td>\n",
       "      <td>0</td>\n",
       "      <td>0</td>\n",
       "      <td>0</td>\n",
       "      <td>0</td>\n",
       "      <td>0</td>\n",
       "      <td>0</td>\n",
       "      <td>0</td>\n",
       "      <td>0</td>\n",
       "      <td>0</td>\n",
       "      <td>0</td>\n",
       "    </tr>\n",
       "    <tr>\n",
       "      <th>12</th>\n",
       "      <td>4.38</td>\n",
       "      <td>815.0</td>\n",
       "      <td>3628</td>\n",
       "      <td>254</td>\n",
       "      <td>0</td>\n",
       "      <td>0</td>\n",
       "      <td>1</td>\n",
       "      <td>0</td>\n",
       "      <td>0</td>\n",
       "      <td>0</td>\n",
       "      <td>...</td>\n",
       "      <td>0</td>\n",
       "      <td>0</td>\n",
       "      <td>0</td>\n",
       "      <td>0</td>\n",
       "      <td>0</td>\n",
       "      <td>0</td>\n",
       "      <td>0</td>\n",
       "      <td>0</td>\n",
       "      <td>0</td>\n",
       "      <td>0</td>\n",
       "    </tr>\n",
       "    <tr>\n",
       "      <th>13</th>\n",
       "      <td>4.38</td>\n",
       "      <td>815.0</td>\n",
       "      <td>249558</td>\n",
       "      <td>4080</td>\n",
       "      <td>0</td>\n",
       "      <td>0</td>\n",
       "      <td>1</td>\n",
       "      <td>0</td>\n",
       "      <td>0</td>\n",
       "      <td>0</td>\n",
       "      <td>...</td>\n",
       "      <td>0</td>\n",
       "      <td>0</td>\n",
       "      <td>0</td>\n",
       "      <td>0</td>\n",
       "      <td>0</td>\n",
       "      <td>0</td>\n",
       "      <td>0</td>\n",
       "      <td>0</td>\n",
       "      <td>0</td>\n",
       "      <td>0</td>\n",
       "    </tr>\n",
       "    <tr>\n",
       "      <th>14</th>\n",
       "      <td>4.22</td>\n",
       "      <td>215.0</td>\n",
       "      <td>4930</td>\n",
       "      <td>460</td>\n",
       "      <td>0</td>\n",
       "      <td>0</td>\n",
       "      <td>1</td>\n",
       "      <td>0</td>\n",
       "      <td>0</td>\n",
       "      <td>0</td>\n",
       "      <td>...</td>\n",
       "      <td>0</td>\n",
       "      <td>0</td>\n",
       "      <td>0</td>\n",
       "      <td>0</td>\n",
       "      <td>0</td>\n",
       "      <td>0</td>\n",
       "      <td>0</td>\n",
       "      <td>0</td>\n",
       "      <td>0</td>\n",
       "      <td>0</td>\n",
       "    </tr>\n",
       "  </tbody>\n",
       "</table>\n",
       "<p>5 rows × 27 columns</p>\n",
       "</div>"
      ],
      "text/plain": [
       "        average_rating  num_pages  ratings_count  text_reviews_count  \\\n",
       "bookID                                                                 \n",
       "4                 4.42      352.0           6333                 244   \n",
       "9                 3.74      152.0             19                   1   \n",
       "12                4.38      815.0           3628                 254   \n",
       "13                4.38      815.0         249558                4080   \n",
       "14                4.22      215.0           4930                 460   \n",
       "\n",
       "        lang_ale  lang_ara  lang_eng  lang_fre  lang_ger  lang_gla  ...  \\\n",
       "bookID                                                              ...   \n",
       "4              0         0         1         0         0         0  ...   \n",
       "9              0         0         1         0         0         0  ...   \n",
       "12             0         0         1         0         0         0  ...   \n",
       "13             0         0         1         0         0         0  ...   \n",
       "14             0         0         1         0         0         0  ...   \n",
       "\n",
       "        lang_nl  lang_nor  lang_por  lang_rus  lang_spa  lang_srp  lang_swe  \\\n",
       "bookID                                                                        \n",
       "4             0         0         0         0         0         0         0   \n",
       "9             0         0         0         0         0         0         0   \n",
       "12            0         0         0         0         0         0         0   \n",
       "13            0         0         0         0         0         0         0   \n",
       "14            0         0         0         0         0         0         0   \n",
       "\n",
       "        lang_tur  lang_wel  lang_zho  \n",
       "bookID                                \n",
       "4              0         0         0  \n",
       "9              0         0         0  \n",
       "12             0         0         0  \n",
       "13             0         0         0  \n",
       "14             0         0         0  \n",
       "\n",
       "[5 rows x 27 columns]"
      ]
     },
     "execution_count": 824,
     "metadata": {},
     "output_type": "execute_result"
    }
   ],
   "source": [
    "Data.head(5)"
   ]
  },
  {
   "cell_type": "markdown",
   "id": "400f4a68",
   "metadata": {},
   "source": [
    "# Model - Linear Regression"
   ]
  },
  {
   "cell_type": "markdown",
   "id": "f5744f9d",
   "metadata": {},
   "source": [
    "\n",
    "Regression (linear and logistic)\n",
    "Regression is one of the most popular methods in statistics. Regression analysis estimates relationships among variables, finding key patterns in large and diverse data sets and how they relate to each other.\n",
    "\n",
    "For our case we predict a countinuous value --> we see if there is a relationship between 2 variables (or more) and try to predict one of them, by using Linear regression.\n"
   ]
  },
  {
   "cell_type": "code",
   "execution_count": 825,
   "id": "346f6470",
   "metadata": {},
   "outputs": [],
   "source": [
    "data_train, data_test = train_test_split(Data,test_size = 0.2, random_state = 10)"
   ]
  },
  {
   "cell_type": "markdown",
   "id": "4c00dcd4",
   "metadata": {},
   "source": [
    "In order to test the rating books of our model, we split the dataset into training and testing sets. Essentially, we train the model on the training set and then predict the values with the testing set.\n",
    "Here, I split the data into 80% training and 20% test, meaning that the model will learn the pattern by 80% training data, and then predict the rates values with 20% testing data. "
   ]
  },
  {
   "cell_type": "code",
   "execution_count": 826,
   "id": "a563ac96",
   "metadata": {},
   "outputs": [
    {
     "name": "stdout",
     "output_type": "stream",
     "text": [
      "10790\n",
      "8632\n",
      "2158\n"
     ]
    }
   ],
   "source": [
    "print(len(Data))\n",
    "print(len(data_train))\n",
    "print(len(data_test))"
   ]
  },
  {
   "cell_type": "code",
   "execution_count": 827,
   "id": "b7140c7b",
   "metadata": {},
   "outputs": [
    {
     "data": {
      "text/html": [
       "<div>\n",
       "<style scoped>\n",
       "    .dataframe tbody tr th:only-of-type {\n",
       "        vertical-align: middle;\n",
       "    }\n",
       "\n",
       "    .dataframe tbody tr th {\n",
       "        vertical-align: top;\n",
       "    }\n",
       "\n",
       "    .dataframe thead th {\n",
       "        text-align: right;\n",
       "    }\n",
       "</style>\n",
       "<table border=\"1\" class=\"dataframe\">\n",
       "  <thead>\n",
       "    <tr style=\"text-align: right;\">\n",
       "      <th></th>\n",
       "      <th>average_rating</th>\n",
       "      <th>num_pages</th>\n",
       "      <th>ratings_count</th>\n",
       "      <th>text_reviews_count</th>\n",
       "      <th>lang_ale</th>\n",
       "      <th>lang_ara</th>\n",
       "      <th>lang_eng</th>\n",
       "      <th>lang_fre</th>\n",
       "      <th>lang_ger</th>\n",
       "      <th>lang_gla</th>\n",
       "      <th>...</th>\n",
       "      <th>lang_nl</th>\n",
       "      <th>lang_nor</th>\n",
       "      <th>lang_por</th>\n",
       "      <th>lang_rus</th>\n",
       "      <th>lang_spa</th>\n",
       "      <th>lang_srp</th>\n",
       "      <th>lang_swe</th>\n",
       "      <th>lang_tur</th>\n",
       "      <th>lang_wel</th>\n",
       "      <th>lang_zho</th>\n",
       "    </tr>\n",
       "    <tr>\n",
       "      <th>bookID</th>\n",
       "      <th></th>\n",
       "      <th></th>\n",
       "      <th></th>\n",
       "      <th></th>\n",
       "      <th></th>\n",
       "      <th></th>\n",
       "      <th></th>\n",
       "      <th></th>\n",
       "      <th></th>\n",
       "      <th></th>\n",
       "      <th></th>\n",
       "      <th></th>\n",
       "      <th></th>\n",
       "      <th></th>\n",
       "      <th></th>\n",
       "      <th></th>\n",
       "      <th></th>\n",
       "      <th></th>\n",
       "      <th></th>\n",
       "      <th></th>\n",
       "      <th></th>\n",
       "    </tr>\n",
       "  </thead>\n",
       "  <tbody>\n",
       "    <tr>\n",
       "      <th>21324</th>\n",
       "      <td>4.27</td>\n",
       "      <td>160.0</td>\n",
       "      <td>18799</td>\n",
       "      <td>568</td>\n",
       "      <td>0</td>\n",
       "      <td>0</td>\n",
       "      <td>1</td>\n",
       "      <td>0</td>\n",
       "      <td>0</td>\n",
       "      <td>0</td>\n",
       "      <td>...</td>\n",
       "      <td>0</td>\n",
       "      <td>0</td>\n",
       "      <td>0</td>\n",
       "      <td>0</td>\n",
       "      <td>0</td>\n",
       "      <td>0</td>\n",
       "      <td>0</td>\n",
       "      <td>0</td>\n",
       "      <td>0</td>\n",
       "      <td>0</td>\n",
       "    </tr>\n",
       "    <tr>\n",
       "      <th>43616</th>\n",
       "      <td>3.68</td>\n",
       "      <td>304.0</td>\n",
       "      <td>137</td>\n",
       "      <td>11</td>\n",
       "      <td>0</td>\n",
       "      <td>0</td>\n",
       "      <td>1</td>\n",
       "      <td>0</td>\n",
       "      <td>0</td>\n",
       "      <td>0</td>\n",
       "      <td>...</td>\n",
       "      <td>0</td>\n",
       "      <td>0</td>\n",
       "      <td>0</td>\n",
       "      <td>0</td>\n",
       "      <td>0</td>\n",
       "      <td>0</td>\n",
       "      <td>0</td>\n",
       "      <td>0</td>\n",
       "      <td>0</td>\n",
       "      <td>0</td>\n",
       "    </tr>\n",
       "    <tr>\n",
       "      <th>32349</th>\n",
       "      <td>3.79</td>\n",
       "      <td>187.0</td>\n",
       "      <td>11224</td>\n",
       "      <td>1249</td>\n",
       "      <td>0</td>\n",
       "      <td>0</td>\n",
       "      <td>1</td>\n",
       "      <td>0</td>\n",
       "      <td>0</td>\n",
       "      <td>0</td>\n",
       "      <td>...</td>\n",
       "      <td>0</td>\n",
       "      <td>0</td>\n",
       "      <td>0</td>\n",
       "      <td>0</td>\n",
       "      <td>0</td>\n",
       "      <td>0</td>\n",
       "      <td>0</td>\n",
       "      <td>0</td>\n",
       "      <td>0</td>\n",
       "      <td>0</td>\n",
       "    </tr>\n",
       "    <tr>\n",
       "      <th>28671</th>\n",
       "      <td>3.82</td>\n",
       "      <td>672.0</td>\n",
       "      <td>337</td>\n",
       "      <td>46</td>\n",
       "      <td>0</td>\n",
       "      <td>0</td>\n",
       "      <td>1</td>\n",
       "      <td>0</td>\n",
       "      <td>0</td>\n",
       "      <td>0</td>\n",
       "      <td>...</td>\n",
       "      <td>0</td>\n",
       "      <td>0</td>\n",
       "      <td>0</td>\n",
       "      <td>0</td>\n",
       "      <td>0</td>\n",
       "      <td>0</td>\n",
       "      <td>0</td>\n",
       "      <td>0</td>\n",
       "      <td>0</td>\n",
       "      <td>0</td>\n",
       "    </tr>\n",
       "    <tr>\n",
       "      <th>22061</th>\n",
       "      <td>3.55</td>\n",
       "      <td>96.0</td>\n",
       "      <td>76</td>\n",
       "      <td>5</td>\n",
       "      <td>0</td>\n",
       "      <td>0</td>\n",
       "      <td>1</td>\n",
       "      <td>0</td>\n",
       "      <td>0</td>\n",
       "      <td>0</td>\n",
       "      <td>...</td>\n",
       "      <td>0</td>\n",
       "      <td>0</td>\n",
       "      <td>0</td>\n",
       "      <td>0</td>\n",
       "      <td>0</td>\n",
       "      <td>0</td>\n",
       "      <td>0</td>\n",
       "      <td>0</td>\n",
       "      <td>0</td>\n",
       "      <td>0</td>\n",
       "    </tr>\n",
       "    <tr>\n",
       "      <th>...</th>\n",
       "      <td>...</td>\n",
       "      <td>...</td>\n",
       "      <td>...</td>\n",
       "      <td>...</td>\n",
       "      <td>...</td>\n",
       "      <td>...</td>\n",
       "      <td>...</td>\n",
       "      <td>...</td>\n",
       "      <td>...</td>\n",
       "      <td>...</td>\n",
       "      <td>...</td>\n",
       "      <td>...</td>\n",
       "      <td>...</td>\n",
       "      <td>...</td>\n",
       "      <td>...</td>\n",
       "      <td>...</td>\n",
       "      <td>...</td>\n",
       "      <td>...</td>\n",
       "      <td>...</td>\n",
       "      <td>...</td>\n",
       "      <td>...</td>\n",
       "    </tr>\n",
       "    <tr>\n",
       "      <th>38643</th>\n",
       "      <td>4.20</td>\n",
       "      <td>208.0</td>\n",
       "      <td>500</td>\n",
       "      <td>54</td>\n",
       "      <td>0</td>\n",
       "      <td>0</td>\n",
       "      <td>1</td>\n",
       "      <td>0</td>\n",
       "      <td>0</td>\n",
       "      <td>0</td>\n",
       "      <td>...</td>\n",
       "      <td>0</td>\n",
       "      <td>0</td>\n",
       "      <td>0</td>\n",
       "      <td>0</td>\n",
       "      <td>0</td>\n",
       "      <td>0</td>\n",
       "      <td>0</td>\n",
       "      <td>0</td>\n",
       "      <td>0</td>\n",
       "      <td>0</td>\n",
       "    </tr>\n",
       "    <tr>\n",
       "      <th>29019</th>\n",
       "      <td>4.23</td>\n",
       "      <td>32.0</td>\n",
       "      <td>2552</td>\n",
       "      <td>103</td>\n",
       "      <td>0</td>\n",
       "      <td>0</td>\n",
       "      <td>1</td>\n",
       "      <td>0</td>\n",
       "      <td>0</td>\n",
       "      <td>0</td>\n",
       "      <td>...</td>\n",
       "      <td>0</td>\n",
       "      <td>0</td>\n",
       "      <td>0</td>\n",
       "      <td>0</td>\n",
       "      <td>0</td>\n",
       "      <td>0</td>\n",
       "      <td>0</td>\n",
       "      <td>0</td>\n",
       "      <td>0</td>\n",
       "      <td>0</td>\n",
       "    </tr>\n",
       "    <tr>\n",
       "      <th>4947</th>\n",
       "      <td>4.05</td>\n",
       "      <td>32.0</td>\n",
       "      <td>2114</td>\n",
       "      <td>166</td>\n",
       "      <td>0</td>\n",
       "      <td>0</td>\n",
       "      <td>1</td>\n",
       "      <td>0</td>\n",
       "      <td>0</td>\n",
       "      <td>0</td>\n",
       "      <td>...</td>\n",
       "      <td>0</td>\n",
       "      <td>0</td>\n",
       "      <td>0</td>\n",
       "      <td>0</td>\n",
       "      <td>0</td>\n",
       "      <td>0</td>\n",
       "      <td>0</td>\n",
       "      <td>0</td>\n",
       "      <td>0</td>\n",
       "      <td>0</td>\n",
       "    </tr>\n",
       "    <tr>\n",
       "      <th>29026</th>\n",
       "      <td>4.32</td>\n",
       "      <td>40.0</td>\n",
       "      <td>86</td>\n",
       "      <td>9</td>\n",
       "      <td>0</td>\n",
       "      <td>0</td>\n",
       "      <td>1</td>\n",
       "      <td>0</td>\n",
       "      <td>0</td>\n",
       "      <td>0</td>\n",
       "      <td>...</td>\n",
       "      <td>0</td>\n",
       "      <td>0</td>\n",
       "      <td>0</td>\n",
       "      <td>0</td>\n",
       "      <td>0</td>\n",
       "      <td>0</td>\n",
       "      <td>0</td>\n",
       "      <td>0</td>\n",
       "      <td>0</td>\n",
       "      <td>0</td>\n",
       "    </tr>\n",
       "    <tr>\n",
       "      <th>4723</th>\n",
       "      <td>4.42</td>\n",
       "      <td>214.0</td>\n",
       "      <td>41</td>\n",
       "      <td>4</td>\n",
       "      <td>0</td>\n",
       "      <td>0</td>\n",
       "      <td>1</td>\n",
       "      <td>0</td>\n",
       "      <td>0</td>\n",
       "      <td>0</td>\n",
       "      <td>...</td>\n",
       "      <td>0</td>\n",
       "      <td>0</td>\n",
       "      <td>0</td>\n",
       "      <td>0</td>\n",
       "      <td>0</td>\n",
       "      <td>0</td>\n",
       "      <td>0</td>\n",
       "      <td>0</td>\n",
       "      <td>0</td>\n",
       "      <td>0</td>\n",
       "    </tr>\n",
       "  </tbody>\n",
       "</table>\n",
       "<p>8632 rows × 27 columns</p>\n",
       "</div>"
      ],
      "text/plain": [
       "        average_rating  num_pages  ratings_count  text_reviews_count  \\\n",
       "bookID                                                                 \n",
       "21324             4.27      160.0          18799                 568   \n",
       "43616             3.68      304.0            137                  11   \n",
       "32349             3.79      187.0          11224                1249   \n",
       "28671             3.82      672.0            337                  46   \n",
       "22061             3.55       96.0             76                   5   \n",
       "...                ...        ...            ...                 ...   \n",
       "38643             4.20      208.0            500                  54   \n",
       "29019             4.23       32.0           2552                 103   \n",
       "4947              4.05       32.0           2114                 166   \n",
       "29026             4.32       40.0             86                   9   \n",
       "4723              4.42      214.0             41                   4   \n",
       "\n",
       "        lang_ale  lang_ara  lang_eng  lang_fre  lang_ger  lang_gla  ...  \\\n",
       "bookID                                                              ...   \n",
       "21324          0         0         1         0         0         0  ...   \n",
       "43616          0         0         1         0         0         0  ...   \n",
       "32349          0         0         1         0         0         0  ...   \n",
       "28671          0         0         1         0         0         0  ...   \n",
       "22061          0         0         1         0         0         0  ...   \n",
       "...          ...       ...       ...       ...       ...       ...  ...   \n",
       "38643          0         0         1         0         0         0  ...   \n",
       "29019          0         0         1         0         0         0  ...   \n",
       "4947           0         0         1         0         0         0  ...   \n",
       "29026          0         0         1         0         0         0  ...   \n",
       "4723           0         0         1         0         0         0  ...   \n",
       "\n",
       "        lang_nl  lang_nor  lang_por  lang_rus  lang_spa  lang_srp  lang_swe  \\\n",
       "bookID                                                                        \n",
       "21324         0         0         0         0         0         0         0   \n",
       "43616         0         0         0         0         0         0         0   \n",
       "32349         0         0         0         0         0         0         0   \n",
       "28671         0         0         0         0         0         0         0   \n",
       "22061         0         0         0         0         0         0         0   \n",
       "...         ...       ...       ...       ...       ...       ...       ...   \n",
       "38643         0         0         0         0         0         0         0   \n",
       "29019         0         0         0         0         0         0         0   \n",
       "4947          0         0         0         0         0         0         0   \n",
       "29026         0         0         0         0         0         0         0   \n",
       "4723          0         0         0         0         0         0         0   \n",
       "\n",
       "        lang_tur  lang_wel  lang_zho  \n",
       "bookID                                \n",
       "21324          0         0         0  \n",
       "43616          0         0         0  \n",
       "32349          0         0         0  \n",
       "28671          0         0         0  \n",
       "22061          0         0         0  \n",
       "...          ...       ...       ...  \n",
       "38643          0         0         0  \n",
       "29019          0         0         0  \n",
       "4947           0         0         0  \n",
       "29026          0         0         0  \n",
       "4723           0         0         0  \n",
       "\n",
       "[8632 rows x 27 columns]"
      ]
     },
     "execution_count": 827,
     "metadata": {},
     "output_type": "execute_result"
    }
   ],
   "source": [
    "data_train"
   ]
  },
  {
   "cell_type": "code",
   "execution_count": 828,
   "id": "fb7552a2",
   "metadata": {},
   "outputs": [
    {
     "data": {
      "text/plain": [
       "Index(['average_rating', 'num_pages', 'ratings_count', 'text_reviews_count',\n",
       "       'lang_ale', 'lang_ara', 'lang_eng', 'lang_fre', 'lang_ger', 'lang_gla',\n",
       "       'lang_glg', 'lang_grc', 'lang_ita', 'lang_jpn', 'lang_lat', 'lang_msa',\n",
       "       'lang_mul', 'lang_nl', 'lang_nor', 'lang_por', 'lang_rus', 'lang_spa',\n",
       "       'lang_srp', 'lang_swe', 'lang_tur', 'lang_wel', 'lang_zho'],\n",
       "      dtype='object')"
      ]
     },
     "execution_count": 828,
     "metadata": {},
     "output_type": "execute_result"
    }
   ],
   "source": [
    "data_train.columns"
   ]
  },
  {
   "cell_type": "code",
   "execution_count": 829,
   "id": "f8e5c769",
   "metadata": {},
   "outputs": [],
   "source": [
    "# get the values of the columns for the training data\n",
    "X_train = data_train.loc[:,[  'num_pages', 'ratings_count', 'text_reviews_count',\n",
    "       'lang_ale', 'lang_ara', 'lang_eng', 'lang_fre', 'lang_ger', 'lang_gla',\n",
    "       'lang_glg', 'lang_grc', 'lang_ita', 'lang_jpn', 'lang_lat', 'lang_msa',\n",
    "       'lang_mul', 'lang_nl', 'lang_nor', 'lang_por', 'lang_rus', 'lang_spa',\n",
    "       'lang_srp', 'lang_swe', 'lang_tur', 'lang_wel', 'lang_zho']].values\n",
    "y_train = data_train.average_rating.values"
   ]
  },
  {
   "cell_type": "code",
   "execution_count": 830,
   "id": "09c6b4e1",
   "metadata": {},
   "outputs": [],
   "source": [
    "# get the values of the columns for the test data\n",
    "X_test = df_test.loc[:,[  'num_pages', 'ratings_count', 'text_reviews_count',\n",
    "       'lang_ale', 'lang_ara', 'lang_eng', 'lang_fre', 'lang_ger', 'lang_gla',\n",
    "       'lang_glg', 'lang_grc', 'lang_ita', 'lang_jpn', 'lang_lat', 'lang_msa',\n",
    "       'lang_mul', 'lang_nl', 'lang_nor', 'lang_por', 'lang_rus', 'lang_spa',\n",
    "       'lang_srp', 'lang_swe', 'lang_tur', 'lang_wel', 'lang_zho']].values\n",
    "y_test = data_test.average_rating.values"
   ]
  },
  {
   "cell_type": "code",
   "execution_count": 848,
   "id": "701837ac",
   "metadata": {},
   "outputs": [],
   "source": [
    "from sklearn.linear_model import LogisticRegression"
   ]
  },
  {
   "cell_type": "code",
   "execution_count": 849,
   "id": "fce7ab72",
   "metadata": {},
   "outputs": [],
   "source": [
    "# here we initialize the model=Linear Regression!\n",
    "lr_model = LinearRegression()\n"
   ]
  },
  {
   "cell_type": "code",
   "execution_count": 850,
   "id": "e6385aa3",
   "metadata": {},
   "outputs": [
    {
     "data": {
      "text/html": [
       "<style>#sk-container-id-12 {color: black;background-color: white;}#sk-container-id-12 pre{padding: 0;}#sk-container-id-12 div.sk-toggleable {background-color: white;}#sk-container-id-12 label.sk-toggleable__label {cursor: pointer;display: block;width: 100%;margin-bottom: 0;padding: 0.3em;box-sizing: border-box;text-align: center;}#sk-container-id-12 label.sk-toggleable__label-arrow:before {content: \"▸\";float: left;margin-right: 0.25em;color: #696969;}#sk-container-id-12 label.sk-toggleable__label-arrow:hover:before {color: black;}#sk-container-id-12 div.sk-estimator:hover label.sk-toggleable__label-arrow:before {color: black;}#sk-container-id-12 div.sk-toggleable__content {max-height: 0;max-width: 0;overflow: hidden;text-align: left;background-color: #f0f8ff;}#sk-container-id-12 div.sk-toggleable__content pre {margin: 0.2em;color: black;border-radius: 0.25em;background-color: #f0f8ff;}#sk-container-id-12 input.sk-toggleable__control:checked~div.sk-toggleable__content {max-height: 200px;max-width: 100%;overflow: auto;}#sk-container-id-12 input.sk-toggleable__control:checked~label.sk-toggleable__label-arrow:before {content: \"▾\";}#sk-container-id-12 div.sk-estimator input.sk-toggleable__control:checked~label.sk-toggleable__label {background-color: #d4ebff;}#sk-container-id-12 div.sk-label input.sk-toggleable__control:checked~label.sk-toggleable__label {background-color: #d4ebff;}#sk-container-id-12 input.sk-hidden--visually {border: 0;clip: rect(1px 1px 1px 1px);clip: rect(1px, 1px, 1px, 1px);height: 1px;margin: -1px;overflow: hidden;padding: 0;position: absolute;width: 1px;}#sk-container-id-12 div.sk-estimator {font-family: monospace;background-color: #f0f8ff;border: 1px dotted black;border-radius: 0.25em;box-sizing: border-box;margin-bottom: 0.5em;}#sk-container-id-12 div.sk-estimator:hover {background-color: #d4ebff;}#sk-container-id-12 div.sk-parallel-item::after {content: \"\";width: 100%;border-bottom: 1px solid gray;flex-grow: 1;}#sk-container-id-12 div.sk-label:hover label.sk-toggleable__label {background-color: #d4ebff;}#sk-container-id-12 div.sk-serial::before {content: \"\";position: absolute;border-left: 1px solid gray;box-sizing: border-box;top: 0;bottom: 0;left: 50%;z-index: 0;}#sk-container-id-12 div.sk-serial {display: flex;flex-direction: column;align-items: center;background-color: white;padding-right: 0.2em;padding-left: 0.2em;position: relative;}#sk-container-id-12 div.sk-item {position: relative;z-index: 1;}#sk-container-id-12 div.sk-parallel {display: flex;align-items: stretch;justify-content: center;background-color: white;position: relative;}#sk-container-id-12 div.sk-item::before, #sk-container-id-12 div.sk-parallel-item::before {content: \"\";position: absolute;border-left: 1px solid gray;box-sizing: border-box;top: 0;bottom: 0;left: 50%;z-index: -1;}#sk-container-id-12 div.sk-parallel-item {display: flex;flex-direction: column;z-index: 1;position: relative;background-color: white;}#sk-container-id-12 div.sk-parallel-item:first-child::after {align-self: flex-end;width: 50%;}#sk-container-id-12 div.sk-parallel-item:last-child::after {align-self: flex-start;width: 50%;}#sk-container-id-12 div.sk-parallel-item:only-child::after {width: 0;}#sk-container-id-12 div.sk-dashed-wrapped {border: 1px dashed gray;margin: 0 0.4em 0.5em 0.4em;box-sizing: border-box;padding-bottom: 0.4em;background-color: white;}#sk-container-id-12 div.sk-label label {font-family: monospace;font-weight: bold;display: inline-block;line-height: 1.2em;}#sk-container-id-12 div.sk-label-container {text-align: center;}#sk-container-id-12 div.sk-container {/* jupyter's `normalize.less` sets `[hidden] { display: none; }` but bootstrap.min.css set `[hidden] { display: none !important; }` so we also need the `!important` here to be able to override the default hidden behavior on the sphinx rendered scikit-learn.org. See: https://github.com/scikit-learn/scikit-learn/issues/21755 */display: inline-block !important;position: relative;}#sk-container-id-12 div.sk-text-repr-fallback {display: none;}</style><div id=\"sk-container-id-12\" class=\"sk-top-container\"><div class=\"sk-text-repr-fallback\"><pre>LinearRegression()</pre><b>In a Jupyter environment, please rerun this cell to show the HTML representation or trust the notebook. <br />On GitHub, the HTML representation is unable to render, please try loading this page with nbviewer.org.</b></div><div class=\"sk-container\" hidden><div class=\"sk-item\"><div class=\"sk-estimator sk-toggleable\"><input class=\"sk-toggleable__control sk-hidden--visually\" id=\"sk-estimator-id-12\" type=\"checkbox\" checked><label for=\"sk-estimator-id-12\" class=\"sk-toggleable__label sk-toggleable__label-arrow\">LinearRegression</label><div class=\"sk-toggleable__content\"><pre>LinearRegression()</pre></div></div></div></div></div>"
      ],
      "text/plain": [
       "LinearRegression()"
      ]
     },
     "execution_count": 850,
     "metadata": {},
     "output_type": "execute_result"
    }
   ],
   "source": [
    "# here we train the model on the training data\n",
    "lr.fit(X_train, y_train)"
   ]
  },
  {
   "cell_type": "code",
   "execution_count": 851,
   "id": "3d644061",
   "metadata": {},
   "outputs": [],
   "source": [
    "#predictions = lr.predict(X_test)\n",
    "y_test_predicted = lr.predict(X_test)"
   ]
  },
  {
   "cell_type": "code",
   "execution_count": 852,
   "id": "cc1785ba",
   "metadata": {},
   "outputs": [
    {
     "data": {
      "text/plain": [
       "array([4.26153502, 4.06293362, 3.94970934, ..., 3.93043434, 3.92284128,\n",
       "       3.93851385])"
      ]
     },
     "execution_count": 852,
     "metadata": {},
     "output_type": "execute_result"
    }
   ],
   "source": [
    "y_test_predicted"
   ]
  },
  {
   "cell_type": "code",
   "execution_count": 853,
   "id": "b85e34c5",
   "metadata": {},
   "outputs": [
    {
     "data": {
      "text/plain": [
       "array([4.29, 4.38, 4.09, ..., 4.1 , 4.  , 3.59])"
      ]
     },
     "execution_count": 853,
     "metadata": {},
     "output_type": "execute_result"
    }
   ],
   "source": [
    "y_test"
   ]
  },
  {
   "cell_type": "code",
   "execution_count": 861,
   "id": "0b4e251e",
   "metadata": {},
   "outputs": [],
   "source": [
    "#(y_test_predicted == y_test).sum()/len(y_test)"
   ]
  },
  {
   "cell_type": "code",
   "execution_count": 855,
   "id": "8bb3c0ba",
   "metadata": {},
   "outputs": [
    {
     "data": {
      "text/html": [
       "<div>\n",
       "<style scoped>\n",
       "    .dataframe tbody tr th:only-of-type {\n",
       "        vertical-align: middle;\n",
       "    }\n",
       "\n",
       "    .dataframe tbody tr th {\n",
       "        vertical-align: top;\n",
       "    }\n",
       "\n",
       "    .dataframe thead th {\n",
       "        text-align: right;\n",
       "    }\n",
       "</style>\n",
       "<table border=\"1\" class=\"dataframe\">\n",
       "  <thead>\n",
       "    <tr style=\"text-align: right;\">\n",
       "      <th></th>\n",
       "      <th>Real rate</th>\n",
       "      <th>Predicted rate</th>\n",
       "    </tr>\n",
       "  </thead>\n",
       "  <tbody>\n",
       "    <tr>\n",
       "      <th>0</th>\n",
       "      <td>4.29</td>\n",
       "      <td>4.261535</td>\n",
       "    </tr>\n",
       "    <tr>\n",
       "      <th>1</th>\n",
       "      <td>4.38</td>\n",
       "      <td>4.062934</td>\n",
       "    </tr>\n",
       "    <tr>\n",
       "      <th>2</th>\n",
       "      <td>4.09</td>\n",
       "      <td>3.949709</td>\n",
       "    </tr>\n",
       "    <tr>\n",
       "      <th>3</th>\n",
       "      <td>4.09</td>\n",
       "      <td>3.916168</td>\n",
       "    </tr>\n",
       "    <tr>\n",
       "      <th>4</th>\n",
       "      <td>3.97</td>\n",
       "      <td>3.955477</td>\n",
       "    </tr>\n",
       "    <tr>\n",
       "      <th>5</th>\n",
       "      <td>4.13</td>\n",
       "      <td>3.912754</td>\n",
       "    </tr>\n",
       "    <tr>\n",
       "      <th>6</th>\n",
       "      <td>4.09</td>\n",
       "      <td>3.919385</td>\n",
       "    </tr>\n",
       "    <tr>\n",
       "      <th>7</th>\n",
       "      <td>4.22</td>\n",
       "      <td>4.261772</td>\n",
       "    </tr>\n",
       "    <tr>\n",
       "      <th>8</th>\n",
       "      <td>4.23</td>\n",
       "      <td>3.934019</td>\n",
       "    </tr>\n",
       "    <tr>\n",
       "      <th>9</th>\n",
       "      <td>3.57</td>\n",
       "      <td>3.882002</td>\n",
       "    </tr>\n",
       "    <tr>\n",
       "      <th>10</th>\n",
       "      <td>3.79</td>\n",
       "      <td>3.915932</td>\n",
       "    </tr>\n",
       "    <tr>\n",
       "      <th>11</th>\n",
       "      <td>3.80</td>\n",
       "      <td>3.946824</td>\n",
       "    </tr>\n",
       "    <tr>\n",
       "      <th>12</th>\n",
       "      <td>4.09</td>\n",
       "      <td>3.863734</td>\n",
       "    </tr>\n",
       "    <tr>\n",
       "      <th>13</th>\n",
       "      <td>3.79</td>\n",
       "      <td>3.904516</td>\n",
       "    </tr>\n",
       "    <tr>\n",
       "      <th>14</th>\n",
       "      <td>4.29</td>\n",
       "      <td>4.012051</td>\n",
       "    </tr>\n",
       "  </tbody>\n",
       "</table>\n",
       "</div>"
      ],
      "text/plain": [
       "    Real rate  Predicted rate\n",
       "0        4.29        4.261535\n",
       "1        4.38        4.062934\n",
       "2        4.09        3.949709\n",
       "3        4.09        3.916168\n",
       "4        3.97        3.955477\n",
       "5        4.13        3.912754\n",
       "6        4.09        3.919385\n",
       "7        4.22        4.261772\n",
       "8        4.23        3.934019\n",
       "9        3.57        3.882002\n",
       "10       3.79        3.915932\n",
       "11       3.80        3.946824\n",
       "12       4.09        3.863734\n",
       "13       3.79        3.904516\n",
       "14       4.29        4.012051"
      ]
     },
     "execution_count": 855,
     "metadata": {},
     "output_type": "execute_result"
    }
   ],
   "source": [
    "#Let's predict 15 values:\n",
    "predict = pd.DataFrame({'Real rate': y_test.tolist(), 'Predicted rate': y_test_predicted.tolist()})\n",
    "predict.head(15)"
   ]
  },
  {
   "cell_type": "code",
   "execution_count": 862,
   "id": "a0a01dd5",
   "metadata": {},
   "outputs": [
    {
     "data": {
      "text/plain": [
       "<matplotlib.axes._subplots.AxesSubplot at 0x17f1ecb7af0>"
      ]
     },
     "execution_count": 862,
     "metadata": {},
     "output_type": "execute_result"
    },
    {
     "data": {
      "image/png": "[encoded data removed]",
      "text/plain": [
       "<Figure size 720x576 with 1 Axes>"
      ]
     },
     "metadata": {
      "needs_background": "light"
     },
     "output_type": "display_data"
    }
   ],
   "source": [
    "# visualise the prediction\n",
    "predict= predict.head(10)\n",
    "predict.plot(kind='bar', figsize=(10, 8))"
   ]
  },
  {
   "cell_type": "code",
   "execution_count": 856,
   "id": "041b35da",
   "metadata": {},
   "outputs": [
    {
     "data": {
      "text/plain": [
       "Text(0, 0.5, 'Predicted Y')"
      ]
     },
     "execution_count": 856,
     "metadata": {},
     "output_type": "execute_result"
    },
    {
     "data": {
      "image/png": "[encoded data removed]",
      "text/plain": [
       "<Figure size 432x288 with 1 Axes>"
      ]
     },
     "metadata": {
      "needs_background": "light"
     },
     "output_type": "display_data"
    }
   ],
   "source": [
    "plt.scatter(y_test,y_test_predicted)\n",
    "plt.xlabel('Y Test')\n",
    "plt.ylabel('Predicted Y')"
   ]
  },
  {
   "cell_type": "markdown",
   "id": "65616c80",
   "metadata": {},
   "source": [
    "We can see that the dots are concentrated around the value 4 on the x-axis 'Real data', and between 3.9 and 4 on the y-axis 'Predicted values'."
   ]
  },
  {
   "cell_type": "markdown",
   "id": "34608962",
   "metadata": {},
   "source": [
    "# Evaluating the Model (Metric):\n",
    "\n",
    "Let's evaluate our model performance by calculating the residual sum of squares and the explained variance score (R^2).\n",
    "Calculate the Mean Absolute Error, Mean Squared Error, and the Root Mean Squared Error. \n"
   ]
  },
  {
   "cell_type": "code",
   "execution_count": 858,
   "id": "8d402909",
   "metadata": {},
   "outputs": [],
   "source": [
    "import sklearn.metrics as metrics"
   ]
  },
  {
   "cell_type": "markdown",
   "id": "c7b260af",
   "metadata": {},
   "source": [
    "The basic concept of accuracy evaluation in regression analysis is that comparing the original target 'y_test' with the predicted one 'y_test_predicted' and applying metrics like MAE, MSE and RMSE to explain the errors and predictive ability of the model.\n",
    "Comparing these metrics:\n",
    "\n",
    "    MAE is the easiest to understand, because it’s the average error.\n",
    "    MSE is more popular than MAE, because MSE “punishes” larger errors, which tends to be useful in the real world.\n",
    "    RMSE is even more popular than MSE, because RMSE is interpretable in the “y” units.\n",
    "\n",
    "All of these are loss functions, because we want to minimize them."
   ]
  },
  {
   "cell_type": "code",
   "execution_count": 859,
   "id": "81de8e2e",
   "metadata": {},
   "outputs": [
    {
     "name": "stdout",
     "output_type": "stream",
     "text": [
      "MAE: 0.22363127370132813\n",
      "MSE: 0.11087727072775415\n",
      "RMSE: 0.3329823880143725\n"
     ]
    }
   ],
   "source": [
    "# evaluate the performance of our algorithm:\n",
    "print('MAE:', metrics.mean_absolute_error(y_test, y_test_predicted))\n",
    "print('MSE:', metrics.mean_squared_error(y_test, y_test_predicted))\n",
    "print('RMSE:', np.sqrt(metrics.mean_squared_error(y_test, y_test_predicted)))\n",
    "\n"
   ]
  },
  {
   "cell_type": "markdown",
   "id": "472b12d6",
   "metadata": {},
   "source": [
    "Let's explore the residuals to make sure everything okay with our books data and that we have gotten a good model."
   ]
  },
  {
   "cell_type": "code",
   "execution_count": 863,
   "id": "07a1962d",
   "metadata": {},
   "outputs": [
    {
     "name": "stderr",
     "output_type": "stream",
     "text": [
      "C:\\Users\\YCH\\anaconda3\\lib\\site-packages\\seaborn\\distributions.py:2619: FutureWarning:\n",
      "\n",
      "`distplot` is a deprecated function and will be removed in a future version. Please adapt your code to use either `displot` (a figure-level function with similar flexibility) or `histplot` (an axes-level function for histograms).\n",
      "\n"
     ]
    },
    {
     "data": {
      "text/plain": [
       "<matplotlib.axes._subplots.AxesSubplot at 0x17f1f741e20>"
      ]
     },
     "execution_count": 863,
     "metadata": {},
     "output_type": "execute_result"
    },
    {
     "data": {
      "image/png": "[encoded data removed]",
      "text/plain": [
       "<Figure size 432x288 with 1 Axes>"
      ]
     },
     "metadata": {
      "needs_background": "light"
     },
     "output_type": "display_data"
    }
   ],
   "source": [
    "#Check the residual:\n",
    "\n",
    "sns.distplot(y_test - y_test_predicted,bins=20)\n",
    "\n"
   ]
  },
  {
   "cell_type": "markdown",
   "id": "c7535857",
   "metadata": {},
   "source": [
    "The histogram of the residuals looks normally distributed!"
   ]
  },
  {
   "cell_type": "code",
   "execution_count": 864,
   "id": "d8866f7b",
   "metadata": {},
   "outputs": [],
   "source": [
    "#Library for Residual plot:\n",
    "import seaborn as sns"
   ]
  },
  {
   "cell_type": "code",
   "execution_count": 866,
   "id": "311a7886",
   "metadata": {},
   "outputs": [
    {
     "data": {
      "image/png": "[encoded data removed]",
      "text/plain": [
       "<Figure size 432x288 with 1 Axes>"
      ]
     },
     "metadata": {
      "needs_background": "light"
     },
     "output_type": "display_data"
    }
   ],
   "source": [
    "#Examining Predicted vs. Residual “The Residual Plot”:\n",
    "sns.residplot(y_test, y_test_predicted,lowess=True, color=\"g\")  \n",
    "plt.show()"
   ]
  },
  {
   "cell_type": "markdown",
   "id": "49375931",
   "metadata": {},
   "source": [
    "This method is used to plot the residuals of our linear model. This method will regress y_test on y_test_predicted and then draw a scatter plot of the residuals.\n",
    "In the plot, each point is a book rate, where the prediction made by the model is on the x-axis and the accuracy of the prediction is on the y-axis. The distance from the line at 0 is how bad the prediction was for the book rate.\n",
    "So we can conclude that our books rates are essentially concentrated arround 3 and 5, and arround the line 0, between -0.1 and 0.2 -> That's mean that our model is good."
   ]
  }
 ],
 "metadata": {
  "kernelspec": {
   "display_name": "Python 3 (ipykernel)",
   "language": "python",
   "name": "python3"
  },
  "language_info": {
   "codemirror_mode": {
    "name": "ipython",
    "version": 3
   },
   "file_extension": ".py",
   "mimetype": "text/x-python",
   "name": "python",
   "nbconvert_exporter": "python",
   "pygments_lexer": "ipython3",
   "version": "3.9.7"
  }
 },
 "nbformat": 4,
 "nbformat_minor": 5
}
